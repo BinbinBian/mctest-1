{
 "metadata": {
  "name": "",
  "signature": "sha256:1e5ca1dbbfa6b39c106e6d4c63eb1f0965ff1472e1fa4373062d8883b6623424"
 },
 "nbformat": 3,
 "nbformat_minor": 0,
 "worksheets": [
  {
   "cells": [
    {
     "cell_type": "heading",
     "level": 1,
     "metadata": {},
     "source": [
      "Load Data"
     ]
    },
    {
     "cell_type": "code",
     "collapsed": false,
     "input": [
      "import nltk\n",
      "import re\n",
      "from __future__ import division"
     ],
     "language": "python",
     "metadata": {},
     "outputs": [],
     "prompt_number": 1
    },
    {
     "cell_type": "code",
     "collapsed": false,
     "input": [
      "## read raw data\n",
      "\n",
      "# path containing all data\n",
      "path = 'data/mc160.dev'\n",
      "\n",
      "# passages and correct answer file names\n",
      "passages_file = path + '.tsv'\n",
      "correct_answers_file = path + '.ans'\n",
      "\n",
      "# read passages\n",
      "f = open(passages_file)\n",
      "raw_passages = f.read()\n",
      "f.close()\n",
      "\n",
      "# read correct answers\n",
      "f = open(correct_answers_file)\n",
      "raw_correct_answers = f.read()\n",
      "f.close()"
     ],
     "language": "python",
     "metadata": {},
     "outputs": [],
     "prompt_number": 2
    },
    {
     "cell_type": "heading",
     "level": 1,
     "metadata": {},
     "source": [
      "Processes Passages"
     ]
    },
    {
     "cell_type": "code",
     "collapsed": false,
     "input": [
      "class Text(object):\n",
      "    \n",
      "    def __init__(self, text):\n",
      "        self.text = text\n",
      "        self.words = nltk.word_tokenize(text)\n",
      "        self.sents = nltk.sent_tokenize(text)\n",
      "\n",
      "class Passage(Text):\n",
      "\n",
      "    def __init__(self, title, story, questions):\n",
      "        Text.__init__(self,story)\n",
      "        self.title = title\n",
      "        self.questions = questions\n",
      "    \n",
      "    def display(self):\n",
      "        print self.title + '\\n'\n",
      "        print self.text + '\\n\\n***\\n'\n",
      "        for q in self.questions:\n",
      "            print '\\n' + q.text + ' (' + q.qtype + ')'\n",
      "            for a in q.answers:\n",
      "                print '\\t' + a.text\n",
      "            print '\\n\\tCorrect Answer: ' + q.correct_answer.text\n",
      "        \n",
      "class Question(Text):\n",
      "    \n",
      "    def __init__(self, qtext, qtype, answers, correct_answer):\n",
      "        Text.__init__(self,qtext)\n",
      "        self.qtype = qtype\n",
      "        self.answers = answers\n",
      "        self.correct_answer = correct_answer\n",
      "\n",
      "class Answer(Text):\n",
      "    \n",
      "    def __init__(self, atext):\n",
      "        Text.__init__(self,atext)"
     ],
     "language": "python",
     "metadata": {},
     "outputs": [],
     "prompt_number": 3
    },
    {
     "cell_type": "code",
     "collapsed": false,
     "input": [
      "def letterToNum(answerIndex):\n",
      "    conversion = {'A':0,'B':1,'C':2,'D':3}\n",
      "    return conversion[answerIndex]"
     ],
     "language": "python",
     "metadata": {},
     "outputs": [],
     "prompt_number": 4
    },
    {
     "cell_type": "code",
     "collapsed": false,
     "input": [
      "# parse correct answers\n",
      "correct_answers = [list(map(letterToNum,answer_set.split('\\t'))) for answer_set in raw_correct_answers.split('\\r\\n') if len(answer_set) > 0]"
     ],
     "language": "python",
     "metadata": {},
     "outputs": [],
     "prompt_number": 5
    },
    {
     "cell_type": "code",
     "collapsed": false,
     "input": [
      "# parse passages\n",
      "data = []\n",
      "passages = raw_passages.split('\\r\\n')[:-1] # split passages\n",
      "for (i,passage) in enumerate(passages):\n",
      "    elements = passage.split('\\t') # split passage elements\n",
      "    title = elements[0] # get title\n",
      "    story = elements[2] # get story, replace escaped newlines and tabs\n",
      "    story = re.sub(r'\\\\newline','\\n',story)\n",
      "    story = re.sub(r'\\\\tab','\\t',story)\n",
      "    questions = []\n",
      "    for j in range(4):\n",
      "        question_elements = elements[3+5*j:3+5*(j+1)] # get question elements\n",
      "        qtype, qtext = question_elements[0].split(': ') # get question type and text\n",
      "        answers = [Answer(text) for text in question_elements[1:5]] # get answers\n",
      "        correct_answer = answers[correct_answers[i][j]] # get correct answer (from answer data)\n",
      "        question = Question(qtext,qtype,answers,correct_answer) # define question\n",
      "        questions[j:] = [question]\n",
      "    p = Passage(title,story,questions) # define passage\n",
      "    data[i:] = [p]"
     ],
     "language": "python",
     "metadata": {},
     "outputs": [],
     "prompt_number": 6
    },
    {
     "cell_type": "code",
     "collapsed": false,
     "input": [
      "# test\n",
      "len(data)"
     ],
     "language": "python",
     "metadata": {},
     "outputs": [
      {
       "metadata": {},
       "output_type": "pyout",
       "prompt_number": 7,
       "text": [
        "30"
       ]
      }
     ],
     "prompt_number": 7
    },
    {
     "cell_type": "code",
     "collapsed": false,
     "input": [
      "# test\n",
      "qtypes = ['one','multiple']\n",
      "for qtype in qtypes:\n",
      "    count = 0\n",
      "    for passage in data:\n",
      "        for question in passage.questions:\n",
      "            if question.qtype == qtype: count += 1\n",
      "    print qtype, count"
     ],
     "language": "python",
     "metadata": {},
     "outputs": [
      {
       "output_type": "stream",
       "stream": "stdout",
       "text": [
        "one 53\n",
        "multiple 67\n"
       ]
      }
     ],
     "prompt_number": 8
    },
    {
     "cell_type": "code",
     "collapsed": false,
     "input": [
      "qws = data[0].questions[1].words"
     ],
     "language": "python",
     "metadata": {},
     "outputs": [],
     "prompt_number": 9
    },
    {
     "cell_type": "code",
     "collapsed": false,
     "input": [
      "#test\n",
      "data[0].display()"
     ],
     "language": "python",
     "metadata": {},
     "outputs": [
      {
       "output_type": "stream",
       "stream": "stdout",
       "text": [
        "mc160.dev.0\n",
        "\n",
        "It was Jessie Bear's birthday. She was having a party.  She asked her two best friends to\n",
        "come to the party.  She made a big cake, and hung up some balloons.\n",
        "\n",
        "Soon her friend Lion came over. Then her friend Tiger came over. Lion and Tiger brought\n",
        "presents with them.\n",
        "\n",
        "Jessie hugged her friends. She asked them if they would like to have cake. \n",
        "\n",
        "Yes! said Lion. Yes yes! said Tiger. Jessie cut the cake, and they all ate it together.\n",
        "Then Jessie opened her presents. She got a new jump rope and a fun game.  She asked Lion\n",
        "and Tiger to play the game with her.\n",
        "\n",
        "The friends played and played. They all had a good time. Soon it was time for the party to\n",
        "be over.\n",
        "\n",
        "Lion and Tiger hugged Jessie and said goodbye to her.  Thanks for a great birthday! Jessie\n",
        "Bear told her two best friends.\n",
        "\n",
        "***\n",
        "\n",
        "\n",
        "Who was having a birthday? (one)\n",
        "\tJessie Bear\n",
        "\tno one\n",
        "\tLion\n",
        "\tTiger\n",
        "\n",
        "\tCorrect Answer: Jessie Bear\n",
        "\n",
        "Who didn't come to the party? (multiple)\n",
        "\tLion\n",
        "\tTiger\n",
        "\tSnake\n",
        "\tJessie Bear\n",
        "\n",
        "\tCorrect Answer: Snake\n",
        "\n",
        "How did Jessie get ready for the party? (multiple)\n",
        "\tmade cake and juice.\n",
        "\tmade cake and hung balloons.\n",
        "\tmade juice and cookies.\n",
        "\tmade juice and hung balloons.\n",
        "\n",
        "\tCorrect Answer: made cake and hung balloons.\n",
        "\n",
        "How many friends came to Jessie's party? (one)\n",
        "\tone\n",
        "\ttwo\n",
        "\tsix\n",
        "\tfour\n",
        "\n",
        "\tCorrect Answer: two\n"
       ]
      }
     ],
     "prompt_number": 10
    },
    {
     "cell_type": "heading",
     "level": 2,
     "metadata": {},
     "source": [
      "Calculates Lexical Diversity (out of curiosity)"
     ]
    },
    {
     "cell_type": "code",
     "collapsed": true,
     "input": [
      "fulltext = ' '.join(p.text for p in data)"
     ],
     "language": "python",
     "metadata": {},
     "outputs": [],
     "prompt_number": 11
    },
    {
     "cell_type": "code",
     "collapsed": false,
     "input": [
      "types = set(nltk.word_tokenize(fulltext))\n",
      "tokens = nltk.word_tokenize(fulltext)"
     ],
     "language": "python",
     "metadata": {},
     "outputs": [],
     "prompt_number": 12
    },
    {
     "cell_type": "code",
     "collapsed": false,
     "input": [
      "len(tokens)/len(types)"
     ],
     "language": "python",
     "metadata": {},
     "outputs": [
      {
       "metadata": {},
       "output_type": "pyout",
       "prompt_number": 13,
       "text": [
        "5.728013029315961"
       ]
      }
     ],
     "prompt_number": 13
    },
    {
     "cell_type": "heading",
     "level": 1,
     "metadata": {},
     "source": [
      "Answer Questions and Evaluates Performance"
     ]
    },
    {
     "cell_type": "heading",
     "level": 2,
     "metadata": {},
     "source": [
      "Defines Answer Scorers"
     ]
    },
    {
     "cell_type": "code",
     "collapsed": false,
     "input": [
      "# TODO: handle lower-case\n",
      "\n",
      "# selects answer that appears most in the story\n",
      "# ignores words in answer that also appear in the question\n",
      "def overlapScorer(passage,question,answer):\n",
      "    return len([word for word in passage.words if word in set(answer.words).difference(question.words)])\n",
      "\n",
      "# does not ignore words in answer that also appear in the question\n",
      "def overlapScorer2(passage,question,answer):\n",
      "    return len([word for word in passage.words if word in answer.words])\n",
      "\n",
      "# like scorer1 but excludes stop words\n",
      "def overlapScorer3(passage,question,answer):\n",
      "    stopwords = nltk.corpus.stopwords.words(fileids=['english'])\n",
      "    score = len([word for word in passage.words if word in set(answer.words).difference(question.words+stopwords)]) \n",
      "    return score\n",
      "\n",
      "# longest answer\n",
      "def overlapScorerLength(passage,question,answer):\n",
      "    score = len(answer.words)\n",
      "    return score\n",
      "\n",
      "# selects answer that appears most in the story\n",
      "# ignores words in answer that also appear in the question\n",
      "# if detects a negation, inverts answers\n",
      "def overlapScorerNeg(passage,question,answer):\n",
      "    score = len([word for word in passage.words if word in set(answer.words).difference(question.words)])\n",
      "    if len(set(['not','n\\'t']).difference(question.words)) < 2:\n",
      "        return -1*score\n",
      "    return score"
     ],
     "language": "python",
     "metadata": {},
     "outputs": [],
     "prompt_number": 14
    },
    {
     "cell_type": "heading",
     "level": 2,
     "metadata": {},
     "source": [
      "Defines Question Answerer"
     ]
    },
    {
     "cell_type": "code",
     "collapsed": false,
     "input": [
      "def answerQuestion(passage,question,answers,scorer):\n",
      "            \n",
      "    best_score = scorer(passage,question,answers[0])\n",
      "    best_answer = answers[0]\n",
      "    for answer in answers[1:]:\n",
      "        score = scorer(passage,question,answer)\n",
      "        if  score > best_score:\n",
      "            best_answer = answer\n",
      "            best_score = score\n",
      "            \n",
      "    return best_answer"
     ],
     "language": "python",
     "metadata": {},
     "outputs": [],
     "prompt_number": 15
    },
    {
     "cell_type": "heading",
     "level": 2,
     "metadata": {},
     "source": [
      "Scores an Answerer on Passages"
     ]
    },
    {
     "cell_type": "code",
     "collapsed": false,
     "input": [
      "def evaluateOnPassages(scorer,passages,verbose = False):\n",
      "    num_correct = 0\n",
      "    num_total = sum([len(p.questions) for p in passages])\n",
      "    for (i,passage) in enumerate(passages):\n",
      "        if verbose: print passage.text + '\\n\\n***\\n'\n",
      "        for (j,question) in enumerate(passage.questions):\n",
      "            best_answer = answerQuestion(passage,question,question.answers,scorer)\n",
      "            if best_answer == question.correct_answer: num_correct += 1\n",
      "            if verbose:\n",
      "                print question.text\n",
      "                for answer in question.answers: print '\\t' + answer.text\n",
      "                print '\\n\\tSelected answer: ' + best_answer.text\n",
      "                print '\\tCorrect answer: ' + question.correct_answer.text + '\\n'\n",
      "    return num_correct / num_total"
     ],
     "language": "python",
     "metadata": {},
     "outputs": [],
     "prompt_number": 16
    },
    {
     "cell_type": "code",
     "collapsed": false,
     "input": [
      "evaluateOnPassages(overlapScorerLength,data,verbose=False)"
     ],
     "language": "python",
     "metadata": {},
     "outputs": [
      {
       "metadata": {},
       "output_type": "pyout",
       "prompt_number": 17,
       "text": [
        "0.31666666666666665"
       ]
      }
     ],
     "prompt_number": 17
    },
    {
     "cell_type": "code",
     "collapsed": false,
     "input": [
      "evaluateOnPassages(overlapScorer,data,verbose=False)"
     ],
     "language": "python",
     "metadata": {},
     "outputs": [
      {
       "metadata": {},
       "output_type": "pyout",
       "prompt_number": 18,
       "text": [
        "0.4666666666666667"
       ]
      }
     ],
     "prompt_number": 18
    },
    {
     "cell_type": "code",
     "collapsed": false,
     "input": [
      "evaluateOnPassages(overlapScorer2,data,verbose=False)"
     ],
     "language": "python",
     "metadata": {},
     "outputs": [
      {
       "metadata": {},
       "output_type": "pyout",
       "prompt_number": 19,
       "text": [
        "0.425"
       ]
      }
     ],
     "prompt_number": 19
    },
    {
     "cell_type": "code",
     "collapsed": true,
     "input": [
      "evaluateOnPassages(overlapScorer3,data,verbose=False)"
     ],
     "language": "python",
     "metadata": {},
     "outputs": [
      {
       "metadata": {},
       "output_type": "pyout",
       "prompt_number": 20,
       "text": [
        "0.4583333333333333"
       ]
      }
     ],
     "prompt_number": 20
    },
    {
     "cell_type": "code",
     "collapsed": false,
     "input": [
      "evaluateOnPassages(overlapScorerNeg,data,verbose=False)"
     ],
     "language": "python",
     "metadata": {},
     "outputs": [
      {
       "metadata": {},
       "output_type": "pyout",
       "prompt_number": 21,
       "text": [
        "0.48333333333333334"
       ]
      }
     ],
     "prompt_number": 21
    },
    {
     "cell_type": "code",
     "collapsed": false,
     "input": [
      "num = 0\n",
      "evaluateOnPassages(overlapScorerNeg,[data[num]],verbose=True)"
     ],
     "language": "python",
     "metadata": {},
     "outputs": [
      {
       "output_type": "stream",
       "stream": "stdout",
       "text": [
        "It was Jessie Bear's birthday. She was having a party.  She asked her two best friends to\n",
        "come to the party.  She made a big cake, and hung up some balloons.\n",
        "\n",
        "Soon her friend Lion came over. Then her friend Tiger came over. Lion and Tiger brought\n",
        "presents with them.\n",
        "\n",
        "Jessie hugged her friends. She asked them if they would like to have cake. \n",
        "\n",
        "Yes! said Lion. Yes yes! said Tiger. Jessie cut the cake, and they all ate it together.\n",
        "Then Jessie opened her presents. She got a new jump rope and a fun game.  She asked Lion\n",
        "and Tiger to play the game with her.\n",
        "\n",
        "The friends played and played. They all had a good time. Soon it was time for the party to\n",
        "be over.\n",
        "\n",
        "Lion and Tiger hugged Jessie and said goodbye to her.  Thanks for a great birthday! Jessie\n",
        "Bear told her two best friends.\n",
        "\n",
        "***\n",
        "\n",
        "Who was having a birthday?\n",
        "\tJessie Bear\n",
        "\tno one\n",
        "\tLion\n",
        "\tTiger\n",
        "\n",
        "\tSelected answer: Jessie Bear\n",
        "\tCorrect answer: Jessie Bear\n",
        "\n",
        "Who didn't come to the party?\n",
        "\tLion\n",
        "\tTiger\n",
        "\tSnake\n",
        "\tJessie Bear\n",
        "\n",
        "\tSelected answer: Snake\n",
        "\tCorrect answer: Snake\n",
        "\n",
        "How did Jessie get ready for the party?\n",
        "\tmade cake and juice.\n",
        "\tmade cake and hung balloons.\n",
        "\tmade juice and cookies.\n",
        "\tmade juice and hung balloons.\n",
        "\n",
        "\tSelected answer: made cake and hung balloons.\n",
        "\tCorrect answer: made cake and hung balloons.\n",
        "\n",
        "How many friends came to Jessie's party?\n",
        "\tone\n",
        "\ttwo\n",
        "\tsix\n",
        "\tfour\n",
        "\n",
        "\tSelected answer: two\n",
        "\tCorrect answer: two\n",
        "\n"
       ]
      },
      {
       "metadata": {},
       "output_type": "pyout",
       "prompt_number": 22,
       "text": [
        "1.0"
       ]
      }
     ],
     "prompt_number": 22
    },
    {
     "cell_type": "heading",
     "level": 2,
     "metadata": {},
     "source": [
      "Using Stanford's Core NLP"
     ]
    },
    {
     "cell_type": "code",
     "collapsed": false,
     "input": [
      "import json\n",
      "from jsonrpc import ServerProxy, JsonRpc20, TransportTcpIp\n",
      "from pprint import pprint\n",
      "\n",
      "class StanfordNLP:\n",
      "    def __init__(self):\n",
      "        self.server = ServerProxy(JsonRpc20(),\n",
      "                                  TransportTcpIp(addr=(\"127.0.0.1\", 8080)))\n",
      "    \n",
      "    def parse(self, text):\n",
      "        return json.loads(self.server.parse(text))"
     ],
     "language": "python",
     "metadata": {},
     "outputs": [],
     "prompt_number": 23
    },
    {
     "cell_type": "code",
     "collapsed": false,
     "input": [
      "#TODO: remove pure formatting whitespace from stories\n",
      "paragraph = re.sub(r'\\s',r' ',' '.join(data[0].sents[0:4]))\n",
      "paragraph"
     ],
     "language": "python",
     "metadata": {},
     "outputs": [
      {
       "metadata": {},
       "output_type": "pyout",
       "prompt_number": 24,
       "text": [
        "\"It was Jessie Bear's birthday. She was having a party. She asked her two best friends to come to the party. She made a big cake, and hung up some balloons.\""
       ]
      }
     ],
     "prompt_number": 24
    },
    {
     "cell_type": "code",
     "collapsed": true,
     "input": [
      "nlp = StanfordNLP()\n",
      "result = nlp.parse(paragraph)\n",
      "pprint(result)"
     ],
     "language": "python",
     "metadata": {},
     "outputs": [
      {
       "output_type": "stream",
       "stream": "stdout",
       "text": [
        "{u'coref': [[[[u'She', 1, 0, 0, 1], [u\"Jessie Bear 's\", 0, 3, 2, 5]],\n",
        "             [[u'She', 2, 0, 0, 1], [u\"Jessie Bear 's\", 0, 3, 2, 5]],\n",
        "             [[u'her', 2, 2, 2, 3], [u\"Jessie Bear 's\", 0, 3, 2, 5]],\n",
        "             [[u'She', 3, 0, 0, 1], [u\"Jessie Bear 's\", 0, 3, 2, 5]]],\n",
        "            [[[u'It', 0, 0, 0, 1], [u\"Jessie Bear 's birthday\", 0, 5, 2, 6]]],\n",
        "            [[[u'the party', 2, 0, 9, 11], [u'a party', 1, 4, 3, 5]]]],\n",
        " u'sentences': [{u'dependencies': [[u'root', u'ROOT', u'birthday'],\n",
        "                                   [u'nsubj', u'birthday', u'It'],\n",
        "                                   [u'cop', u'birthday', u'was'],\n",
        "                                   [u'nn', u'Bear', u'Jessie'],\n",
        "                                   [u'poss', u'birthday', u'Bear']],\n",
        "                 u'parsetree': u\"(ROOT (S (NP (PRP It)) (VP (VBD was) (NP (NP (NNP Jessie) (NNP Bear) (POS 's)) (NN birthday))) (. .)))\",\n",
        "                 u'text': u\"It was Jessie Bear's birthday.\",\n",
        "                 u'words': [[u'It',\n",
        "                             {u'CharacterOffsetBegin': u'0',\n",
        "                              u'CharacterOffsetEnd': u'2',\n",
        "                              u'Lemma': u'it',\n",
        "                              u'NamedEntityTag': u'O',\n",
        "                              u'PartOfSpeech': u'PRP'}],\n",
        "                            [u'was',\n",
        "                             {u'CharacterOffsetBegin': u'3',\n",
        "                              u'CharacterOffsetEnd': u'6',\n",
        "                              u'Lemma': u'be',\n",
        "                              u'NamedEntityTag': u'O',\n",
        "                              u'PartOfSpeech': u'VBD'}],\n",
        "                            [u'Jessie',\n",
        "                             {u'CharacterOffsetBegin': u'7',\n",
        "                              u'CharacterOffsetEnd': u'13',\n",
        "                              u'Lemma': u'Jessie',\n",
        "                              u'NamedEntityTag': u'PERSON',\n",
        "                              u'PartOfSpeech': u'NNP'}],\n",
        "                            [u'Bear',\n",
        "                             {u'CharacterOffsetBegin': u'14',\n",
        "                              u'CharacterOffsetEnd': u'18',\n",
        "                              u'Lemma': u'Bear',\n",
        "                              u'NamedEntityTag': u'PERSON',\n",
        "                              u'PartOfSpeech': u'NNP'}],\n",
        "                            [u\"'s\",\n",
        "                             {u'CharacterOffsetBegin': u'18',\n",
        "                              u'CharacterOffsetEnd': u'20',\n",
        "                              u'Lemma': u\"'s\",\n",
        "                              u'NamedEntityTag': u'O',\n",
        "                              u'PartOfSpeech': u'POS'}],\n",
        "                            [u'birthday',\n",
        "                             {u'CharacterOffsetBegin': u'21',\n",
        "                              u'CharacterOffsetEnd': u'29',\n",
        "                              u'Lemma': u'birthday',\n",
        "                              u'NamedEntityTag': u'O',\n",
        "                              u'PartOfSpeech': u'NN'}],\n",
        "                            [u'.',\n",
        "                             {u'CharacterOffsetBegin': u'29',\n",
        "                              u'CharacterOffsetEnd': u'30',\n",
        "                              u'Lemma': u'.',\n",
        "                              u'NamedEntityTag': u'O',\n",
        "                              u'PartOfSpeech': u'.'}]]},\n",
        "                {u'dependencies': [[u'root', u'ROOT', u'having'],\n",
        "                                   [u'nsubj', u'having', u'She'],\n",
        "                                   [u'aux', u'having', u'was'],\n",
        "                                   [u'det', u'party', u'a'],\n",
        "                                   [u'dobj', u'having', u'party']],\n",
        "                 u'parsetree': u'(ROOT (S (NP (PRP She)) (VP (VBD was) (VP (VBG having) (NP (DT a) (NN party)))) (. .)))',\n",
        "                 u'text': u'She was having a party.',\n",
        "                 u'words': [[u'She',\n",
        "                             {u'CharacterOffsetBegin': u'31',\n",
        "                              u'CharacterOffsetEnd': u'34',\n",
        "                              u'Lemma': u'she',\n",
        "                              u'NamedEntityTag': u'O',\n",
        "                              u'PartOfSpeech': u'PRP'}],\n",
        "                            [u'was',\n",
        "                             {u'CharacterOffsetBegin': u'35',\n",
        "                              u'CharacterOffsetEnd': u'38',\n",
        "                              u'Lemma': u'be',\n",
        "                              u'NamedEntityTag': u'O',\n",
        "                              u'PartOfSpeech': u'VBD'}],\n",
        "                            [u'having',\n",
        "                             {u'CharacterOffsetBegin': u'39',\n",
        "                              u'CharacterOffsetEnd': u'45',\n",
        "                              u'Lemma': u'have',\n",
        "                              u'NamedEntityTag': u'O',\n",
        "                              u'PartOfSpeech': u'VBG'}],\n",
        "                            [u'a',\n",
        "                             {u'CharacterOffsetBegin': u'46',\n",
        "                              u'CharacterOffsetEnd': u'47',\n",
        "                              u'Lemma': u'a',\n",
        "                              u'NamedEntityTag': u'O',\n",
        "                              u'PartOfSpeech': u'DT'}],\n",
        "                            [u'party',\n",
        "                             {u'CharacterOffsetBegin': u'48',\n",
        "                              u'CharacterOffsetEnd': u'53',\n",
        "                              u'Lemma': u'party',\n",
        "                              u'NamedEntityTag': u'O',\n",
        "                              u'PartOfSpeech': u'NN'}],\n",
        "                            [u'.',\n",
        "                             {u'CharacterOffsetBegin': u'53',\n",
        "                              u'CharacterOffsetEnd': u'54',\n",
        "                              u'Lemma': u'.',\n",
        "                              u'NamedEntityTag': u'O',\n",
        "                              u'PartOfSpeech': u'.'}]]},\n",
        "                {u'dependencies': [[u'root', u'ROOT', u'asked'],\n",
        "                                   [u'nsubj', u'asked', u'She'],\n",
        "                                   [u'dobj', u'asked', u'her'],\n",
        "                                   [u'tmod', u'asked', u'two'],\n",
        "                                   [u'amod', u'friends', u'best'],\n",
        "                                   [u'nsubj', u'come', u'friends'],\n",
        "                                   [u'aux', u'come', u'to'],\n",
        "                                   [u'xcomp', u'asked', u'come'],\n",
        "                                   [u'det', u'party', u'the'],\n",
        "                                   [u'prep_to', u'come', u'party']],\n",
        "                 u'parsetree': u'(ROOT (S (NP (PRP She)) (VP (VBD asked) (NP (PRP her)) (NP-TMP (CD two)) (SBAR (S (NP (JJS best) (NNS friends)) (VP (TO to) (VP (VB come) (PP (TO to) (NP (DT the) (NN party)))))))) (. .)))',\n",
        "                 u'text': u'She asked her two best friends to come to the party.',\n",
        "                 u'words': [[u'She',\n",
        "                             {u'CharacterOffsetBegin': u'55',\n",
        "                              u'CharacterOffsetEnd': u'58',\n",
        "                              u'Lemma': u'she',\n",
        "                              u'NamedEntityTag': u'O',\n",
        "                              u'PartOfSpeech': u'PRP'}],\n",
        "                            [u'asked',\n",
        "                             {u'CharacterOffsetBegin': u'59',\n",
        "                              u'CharacterOffsetEnd': u'64',\n",
        "                              u'Lemma': u'ask',\n",
        "                              u'NamedEntityTag': u'O',\n",
        "                              u'PartOfSpeech': u'VBD'}],\n",
        "                            [u'her',\n",
        "                             {u'CharacterOffsetBegin': u'65',\n",
        "                              u'CharacterOffsetEnd': u'68',\n",
        "                              u'Lemma': u'she',\n",
        "                              u'NamedEntityTag': u'O',\n",
        "                              u'PartOfSpeech': u'PRP'}],\n",
        "                            [u'two',\n",
        "                             {u'CharacterOffsetBegin': u'69',\n",
        "                              u'CharacterOffsetEnd': u'72',\n",
        "                              u'Lemma': u'two',\n",
        "                              u'NamedEntityTag': u'NUMBER',\n",
        "                              u'NormalizedNamedEntityTag': u'2.0',\n",
        "                              u'PartOfSpeech': u'CD'}],\n",
        "                            [u'best',\n",
        "                             {u'CharacterOffsetBegin': u'73',\n",
        "                              u'CharacterOffsetEnd': u'77',\n",
        "                              u'Lemma': u'best',\n",
        "                              u'NamedEntityTag': u'O',\n",
        "                              u'PartOfSpeech': u'JJS'}],\n",
        "                            [u'friends',\n",
        "                             {u'CharacterOffsetBegin': u'78',\n",
        "                              u'CharacterOffsetEnd': u'85',\n",
        "                              u'Lemma': u'friend',\n",
        "                              u'NamedEntityTag': u'O',\n",
        "                              u'PartOfSpeech': u'NNS'}],\n",
        "                            [u'to',\n",
        "                             {u'CharacterOffsetBegin': u'86',\n",
        "                              u'CharacterOffsetEnd': u'88',\n",
        "                              u'Lemma': u'to',\n",
        "                              u'NamedEntityTag': u'O',\n",
        "                              u'PartOfSpeech': u'TO'}],\n",
        "                            [u'come',\n",
        "                             {u'CharacterOffsetBegin': u'89',\n",
        "                              u'CharacterOffsetEnd': u'93',\n",
        "                              u'Lemma': u'come',\n",
        "                              u'NamedEntityTag': u'O',\n",
        "                              u'PartOfSpeech': u'VB'}],\n",
        "                            [u'to',\n",
        "                             {u'CharacterOffsetBegin': u'94',\n",
        "                              u'CharacterOffsetEnd': u'96',\n",
        "                              u'Lemma': u'to',\n",
        "                              u'NamedEntityTag': u'O',\n",
        "                              u'PartOfSpeech': u'TO'}],\n",
        "                            [u'the',\n",
        "                             {u'CharacterOffsetBegin': u'97',\n",
        "                              u'CharacterOffsetEnd': u'100',\n",
        "                              u'Lemma': u'the',\n",
        "                              u'NamedEntityTag': u'O',\n",
        "                              u'PartOfSpeech': u'DT'}],\n",
        "                            [u'party',\n",
        "                             {u'CharacterOffsetBegin': u'101',\n",
        "                              u'CharacterOffsetEnd': u'106',\n",
        "                              u'Lemma': u'party',\n",
        "                              u'NamedEntityTag': u'O',\n",
        "                              u'PartOfSpeech': u'NN'}],\n",
        "                            [u'.',\n",
        "                             {u'CharacterOffsetBegin': u'106',\n",
        "                              u'CharacterOffsetEnd': u'107',\n",
        "                              u'Lemma': u'.',\n",
        "                              u'NamedEntityTag': u'O',\n",
        "                              u'PartOfSpeech': u'.'}]]},\n",
        "                {u'dependencies': [[u'root', u'ROOT', u'made'],\n",
        "                                   [u'nsubj', u'made', u'She'],\n",
        "                                   [u'det', u'cake', u'a'],\n",
        "                                   [u'amod', u'cake', u'big'],\n",
        "                                   [u'dobj', u'made', u'cake'],\n",
        "                                   [u'conj_and', u'made', u'hung'],\n",
        "                                   [u'prt', u'hung', u'up'],\n",
        "                                   [u'det', u'balloons', u'some'],\n",
        "                                   [u'dobj', u'hung', u'balloons']],\n",
        "                 u'parsetree': u'(ROOT (S (NP (PRP She)) (VP (VP (VBD made) (NP (DT a) (JJ big) (NN cake))) (, ,) (CC and) (VP (VBD hung) (PRT (RP up)) (NP (DT some) (NNS balloons)))) (. .)))',\n",
        "                 u'text': u'She made a big cake, and hung up some balloons.',\n",
        "                 u'words': [[u'She',\n",
        "                             {u'CharacterOffsetBegin': u'108',\n",
        "                              u'CharacterOffsetEnd': u'111',\n",
        "                              u'Lemma': u'she',\n",
        "                              u'NamedEntityTag': u'O',\n",
        "                              u'PartOfSpeech': u'PRP'}],\n",
        "                            [u'made',\n",
        "                             {u'CharacterOffsetBegin': u'112',\n",
        "                              u'CharacterOffsetEnd': u'116',\n",
        "                              u'Lemma': u'make',\n",
        "                              u'NamedEntityTag': u'O',\n",
        "                              u'PartOfSpeech': u'VBD'}],\n",
        "                            [u'a',\n",
        "                             {u'CharacterOffsetBegin': u'117',\n",
        "                              u'CharacterOffsetEnd': u'118',\n",
        "                              u'Lemma': u'a',\n",
        "                              u'NamedEntityTag': u'O',\n",
        "                              u'PartOfSpeech': u'DT'}],\n",
        "                            [u'big',\n",
        "                             {u'CharacterOffsetBegin': u'119',\n",
        "                              u'CharacterOffsetEnd': u'122',\n",
        "                              u'Lemma': u'big',\n",
        "                              u'NamedEntityTag': u'O',\n",
        "                              u'PartOfSpeech': u'JJ'}],\n",
        "                            [u'cake',\n",
        "                             {u'CharacterOffsetBegin': u'123',\n",
        "                              u'CharacterOffsetEnd': u'127',\n",
        "                              u'Lemma': u'cake',\n",
        "                              u'NamedEntityTag': u'O',\n",
        "                              u'PartOfSpeech': u'NN'}],\n",
        "                            [u',',\n",
        "                             {u'CharacterOffsetBegin': u'127',\n",
        "                              u'CharacterOffsetEnd': u'128',\n",
        "                              u'Lemma': u',',\n",
        "                              u'NamedEntityTag': u'O',\n",
        "                              u'PartOfSpeech': u','}],\n",
        "                            [u'and',\n",
        "                             {u'CharacterOffsetBegin': u'129',\n",
        "                              u'CharacterOffsetEnd': u'132',\n",
        "                              u'Lemma': u'and',\n",
        "                              u'NamedEntityTag': u'O',\n",
        "                              u'PartOfSpeech': u'CC'}],\n",
        "                            [u'hung',\n",
        "                             {u'CharacterOffsetBegin': u'133',\n",
        "                              u'CharacterOffsetEnd': u'137',\n",
        "                              u'Lemma': u'hang',\n",
        "                              u'NamedEntityTag': u'O',\n",
        "                              u'PartOfSpeech': u'VBD'}],\n",
        "                            [u'up',\n",
        "                             {u'CharacterOffsetBegin': u'138',\n",
        "                              u'CharacterOffsetEnd': u'140',\n",
        "                              u'Lemma': u'up',\n",
        "                              u'NamedEntityTag': u'O',\n",
        "                              u'PartOfSpeech': u'RP'}],\n",
        "                            [u'some',\n",
        "                             {u'CharacterOffsetBegin': u'141',\n",
        "                              u'CharacterOffsetEnd': u'145',\n",
        "                              u'Lemma': u'some',\n",
        "                              u'NamedEntityTag': u'O',\n",
        "                              u'PartOfSpeech': u'DT'}],\n",
        "                            [u'balloons',\n",
        "                             {u'CharacterOffsetBegin': u'146',\n",
        "                              u'CharacterOffsetEnd': u'154',\n",
        "                              u'Lemma': u'balloon',\n",
        "                              u'NamedEntityTag': u'O',\n",
        "                              u'PartOfSpeech': u'NNS'}],\n",
        "                            [u'.',\n",
        "                             {u'CharacterOffsetBegin': u'154',\n",
        "                              u'CharacterOffsetEnd': u'155',\n",
        "                              u'Lemma': u'.',\n",
        "                              u'NamedEntityTag': u'O',\n",
        "                              u'PartOfSpeech': u'.'}]]}]}\n"
       ]
      }
     ],
     "prompt_number": 26
    },
    {
     "cell_type": "code",
     "collapsed": true,
     "input": [
      "from nltk.tree import Tree\n",
      "tree = Tree.fromstring(result['sentences'][3]['parsetree'])\n",
      "print tree"
     ],
     "language": "python",
     "metadata": {},
     "outputs": [
      {
       "output_type": "stream",
       "stream": "stdout",
       "text": [
        "(ROOT\n",
        "  (S\n",
        "    (NP (PRP She))\n",
        "    (VP\n",
        "      (VP (VBD made) (NP (DT a) (JJ big) (NN cake)))\n",
        "      (, ,)\n",
        "      (CC and)\n",
        "      (VP (VBD hung) (PRT (RP up)) (NP (DT some) (NNS balloons))))\n",
        "    (. .)))\n"
       ]
      }
     ],
     "prompt_number": 65
    },
    {
     "cell_type": "code",
     "collapsed": true,
     "input": [
      "parses = [Tree.fromstring(result_sent['parsetree']) for result_sent in result['sentences']]"
     ],
     "language": "python",
     "metadata": {},
     "outputs": [],
     "prompt_number": 28
    },
    {
     "cell_type": "code",
     "collapsed": false,
     "input": [
      "def getTextByTags(tree,tagset):\n",
      "    return [subtree.leaves() for subtree in tree.subtrees() if subtree.label() in tagset]"
     ],
     "language": "python",
     "metadata": {},
     "outputs": [],
     "prompt_number": 29
    },
    {
     "cell_type": "code",
     "collapsed": false,
     "input": [
      "[getTextByTags(parse,[u'NP',u'NN',u'NNP',u'NNS',u'NNPS']) for parse in parses]"
     ],
     "language": "python",
     "metadata": {},
     "outputs": [
      {
       "metadata": {},
       "output_type": "pyout",
       "prompt_number": 30,
       "text": [
        "[[[u'It'],\n",
        "  [u'Jessie', u'Bear', u\"'s\", u'birthday'],\n",
        "  [u'Jessie', u'Bear', u\"'s\"],\n",
        "  [u'Jessie'],\n",
        "  [u'Bear'],\n",
        "  [u'birthday']],\n",
        " [[u'She'], [u'a', u'party'], [u'party']],\n",
        " [[u'She'],\n",
        "  [u'her'],\n",
        "  [u'best', u'friends'],\n",
        "  [u'friends'],\n",
        "  [u'the', u'party'],\n",
        "  [u'party']],\n",
        " [[u'She'],\n",
        "  [u'a', u'big', u'cake'],\n",
        "  [u'cake'],\n",
        "  [u'some', u'balloons'],\n",
        "  [u'balloons']]]"
       ]
      }
     ],
     "prompt_number": 30
    },
    {
     "cell_type": "code",
     "collapsed": false,
     "input": [
      "parses[0].leaves()"
     ],
     "language": "python",
     "metadata": {},
     "outputs": [
      {
       "metadata": {},
       "output_type": "pyout",
       "prompt_number": 31,
       "text": [
        "[u'It', u'was', u'Jessie', u'Bear', u\"'s\", u'birthday', u'.']"
       ]
      }
     ],
     "prompt_number": 31
    },
    {
     "cell_type": "code",
     "collapsed": false,
     "input": [
      "for subtree in parses[0].subtrees():\n",
      "    print subtree"
     ],
     "language": "python",
     "metadata": {},
     "outputs": [
      {
       "output_type": "stream",
       "stream": "stdout",
       "text": [
        "(ROOT\n",
        "  (S\n",
        "    (NP (PRP It))\n",
        "    (VP\n",
        "      (VBD was)\n",
        "      (NP (NP (NNP Jessie) (NNP Bear) (POS 's)) (NN birthday)))\n",
        "    (. .)))\n",
        "(S\n",
        "  (NP (PRP It))\n",
        "  (VP\n",
        "    (VBD was)\n",
        "    (NP (NP (NNP Jessie) (NNP Bear) (POS 's)) (NN birthday)))\n",
        "  (. .))\n",
        "(NP (PRP It))\n",
        "(PRP It)\n",
        "(VP\n",
        "  (VBD was)\n",
        "  (NP (NP (NNP Jessie) (NNP Bear) (POS 's)) (NN birthday)))\n",
        "(VBD was)\n",
        "(NP (NP (NNP Jessie) (NNP Bear) (POS 's)) (NN birthday))\n",
        "(NP (NNP Jessie) (NNP Bear) (POS 's))\n",
        "(NNP Jessie)\n",
        "(NNP Bear)\n",
        "(POS 's)\n",
        "(NN birthday)\n",
        "(. .)\n"
       ]
      }
     ],
     "prompt_number": 32
    },
    {
     "cell_type": "heading",
     "level": 2,
     "metadata": {},
     "source": [
      "Using NLTK's Logical Representation and Inference Tools"
     ]
    },
    {
     "cell_type": "heading",
     "level": 3,
     "metadata": {},
     "source": [
      "Translating Text and Answers into FOL Sentences and Using a Prover"
     ]
    },
    {
     "cell_type": "code",
     "collapsed": false,
     "input": [
      "# It was Jessie Bear's birthday."
     ],
     "language": "python",
     "metadata": {},
     "outputs": [],
     "prompt_number": 45
    },
    {
     "cell_type": "code",
     "collapsed": false,
     "input": [
      "read_expr = nltk.sem.Expression.fromstring\n",
      "prover = nltk.Prover9()"
     ],
     "language": "python",
     "metadata": {},
     "outputs": [],
     "prompt_number": 33
    },
    {
     "cell_type": "code",
     "collapsed": false,
     "input": [
      "e1 = read_expr('IsA(Jessie_Bear_s_birthday,birthday)')\n",
      "e1"
     ],
     "language": "python",
     "metadata": {},
     "outputs": [
      {
       "metadata": {},
       "output_type": "pyout",
       "prompt_number": 34,
       "text": [
        "<ApplicationExpression IsA(Jessie_Bear_s_birthday,birthday)>"
       ]
      }
     ],
     "prompt_number": 34
    },
    {
     "cell_type": "code",
     "collapsed": false,
     "input": [
      "e2 = read_expr('HasA(Jessie_Bear,Jessie_Bear_s_birthday)')\n",
      "e2"
     ],
     "language": "python",
     "metadata": {},
     "outputs": [
      {
       "metadata": {},
       "output_type": "pyout",
       "prompt_number": 35,
       "text": [
        "<ApplicationExpression HasA(Jessie_Bear,Jessie_Bear_s_birthday)>"
       ]
      }
     ],
     "prompt_number": 35
    },
    {
     "cell_type": "code",
     "collapsed": false,
     "input": [
      "e3 = read_expr('all x. all y. all z. (HasA(x, y) & IsA(y, z) -> HasA(x, z))')\n",
      "e3"
     ],
     "language": "python",
     "metadata": {},
     "outputs": [
      {
       "metadata": {},
       "output_type": "pyout",
       "prompt_number": 36,
       "text": [
        "<AllExpression all x y z.((HasA(x,y) & IsA(y,z)) -> HasA(x,z))>"
       ]
      }
     ],
     "prompt_number": 36
    },
    {
     "cell_type": "code",
     "collapsed": false,
     "input": [
      "expressions = [e1,e2,e3]"
     ],
     "language": "python",
     "metadata": {},
     "outputs": [],
     "prompt_number": 37
    },
    {
     "cell_type": "code",
     "collapsed": false,
     "input": [
      "# Who was having a birthday?\n",
      "#   Jessie Bear\n",
      "#   no one\n",
      "#   Lion\n",
      "#   Tiger"
     ],
     "language": "python",
     "metadata": {},
     "outputs": [],
     "prompt_number": 44
    },
    {
     "cell_type": "code",
     "collapsed": false,
     "input": [
      "a1 = read_expr('HasA(Jessie_Bear,birthday)')\n",
      "a1"
     ],
     "language": "python",
     "metadata": {},
     "outputs": [
      {
       "metadata": {},
       "output_type": "pyout",
       "prompt_number": 46,
       "text": [
        "<ApplicationExpression HasA(Jessie_Bear,birthday)>"
       ]
      }
     ],
     "prompt_number": 46
    },
    {
     "cell_type": "code",
     "collapsed": false,
     "input": [
      "a2 = read_expr('- exists x.HasA(x,birthday)')\n",
      "a2"
     ],
     "language": "python",
     "metadata": {},
     "outputs": [
      {
       "metadata": {},
       "output_type": "pyout",
       "prompt_number": 47,
       "text": [
        "<NegatedExpression -exists x.HasA(x,birthday)>"
       ]
      }
     ],
     "prompt_number": 47
    },
    {
     "cell_type": "code",
     "collapsed": false,
     "input": [
      "a3 = read_expr('HasA(Lion,birthday)')\n",
      "a3"
     ],
     "language": "python",
     "metadata": {},
     "outputs": [
      {
       "metadata": {},
       "output_type": "pyout",
       "prompt_number": 48,
       "text": [
        "<ApplicationExpression HasA(Lion,birthday)>"
       ]
      }
     ],
     "prompt_number": 48
    },
    {
     "cell_type": "code",
     "collapsed": false,
     "input": [
      "a4 = read_expr('HasA(Tiger,birthday)')\n",
      "a4"
     ],
     "language": "python",
     "metadata": {},
     "outputs": [
      {
       "metadata": {},
       "output_type": "pyout",
       "prompt_number": 49,
       "text": [
        "<ApplicationExpression HasA(Tiger,birthday)>"
       ]
      }
     ],
     "prompt_number": 49
    },
    {
     "cell_type": "code",
     "collapsed": false,
     "input": [
      "answers = [a1,a2,a3,a4]"
     ],
     "language": "python",
     "metadata": {},
     "outputs": [],
     "prompt_number": 50
    },
    {
     "cell_type": "code",
     "collapsed": false,
     "input": [
      "for i,answer in enumerate(answers):\n",
      "    print i+1, prover.prove(answer, expressions)"
     ],
     "language": "python",
     "metadata": {},
     "outputs": [
      {
       "output_type": "stream",
       "stream": "stdout",
       "text": [
        "1 "
       ]
      },
      {
       "output_type": "stream",
       "stream": "stdout",
       "text": [
        "True\n",
        "2 "
       ]
      },
      {
       "output_type": "stream",
       "stream": "stdout",
       "text": [
        "False\n",
        "3 False\n",
        "4 False\n"
       ]
      }
     ],
     "prompt_number": 51
    },
    {
     "cell_type": "heading",
     "level": 3,
     "metadata": {},
     "source": [
      "Valuations and Models"
     ]
    },
    {
     "cell_type": "code",
     "collapsed": false,
     "input": [
      "from nltk.sem import Valuation, Model"
     ],
     "language": "python",
     "metadata": {},
     "outputs": [],
     "prompt_number": 52
    },
    {
     "cell_type": "code",
     "collapsed": false,
     "input": [
      "# objects and relations\n",
      "v = [('Jessie Bear','jb'),\n",
      "     ('Jessie Bear\\'s birthday','jb_bd'),\n",
      "     ('entity', set(['jb','jb_bd'])),\n",
      "     ('birthday',set(['jb_bd'])),\n",
      "     ('has',set([('jb','jb_bd')]))\n",
      "     ]"
     ],
     "language": "python",
     "metadata": {},
     "outputs": [],
     "prompt_number": 60
    },
    {
     "cell_type": "code",
     "collapsed": false,
     "input": [
      "val = Valuation(v)\n",
      "val"
     ],
     "language": "python",
     "metadata": {},
     "outputs": [
      {
       "metadata": {},
       "output_type": "pyout",
       "prompt_number": 54,
       "text": [
        "{'has': set([('jb', 'jb_bd')]), \"Jessie Bear's birthday\": 'jb_bd', 'birthday': set([('jb_bd',)]), 'Jessie Bear': 'jb', 'entity': set([('jb_bd',), ('jb',)])}"
       ]
      }
     ],
     "prompt_number": 54
    },
    {
     "cell_type": "code",
     "collapsed": false,
     "input": [
      "dom = val.domain\n",
      "dom"
     ],
     "language": "python",
     "metadata": {},
     "outputs": [
      {
       "metadata": {},
       "output_type": "pyout",
       "prompt_number": 55,
       "text": [
        "{'jb', 'jb_bd'}"
       ]
      }
     ],
     "prompt_number": 55
    },
    {
     "cell_type": "code",
     "collapsed": false,
     "input": [
      "m = Model(dom, val)\n",
      "m"
     ],
     "language": "python",
     "metadata": {},
     "outputs": [
      {
       "metadata": {},
       "output_type": "pyout",
       "prompt_number": 56,
       "text": [
        "(set(['jb_bd', 'jb']), {'has': set([('jb', 'jb_bd')]), \"Jessie Bear's birthday\": 'jb_bd', 'birthday': set([('jb_bd',)]), 'Jessie Bear': 'jb', 'entity': set([('jb_bd',), ('jb',)])})"
       ]
      }
     ],
     "prompt_number": 56
    },
    {
     "cell_type": "code",
     "collapsed": false,
     "input": [
      "g = nltk.sem.Assignment(dom)\n",
      "g"
     ],
     "language": "python",
     "metadata": {},
     "outputs": [
      {
       "metadata": {},
       "output_type": "pyout",
       "prompt_number": 57,
       "text": [
        "{}"
       ]
      }
     ],
     "prompt_number": 57
    },
    {
     "cell_type": "code",
     "collapsed": false,
     "input": [
      "# does someone have a birthday?\n",
      "m.evaluate('exists x. (exists y. (has(x,y) & birthday(y)))',g)"
     ],
     "language": "python",
     "metadata": {},
     "outputs": [
      {
       "metadata": {},
       "output_type": "pyout",
       "prompt_number": 58,
       "text": [
        "True"
       ]
      }
     ],
     "prompt_number": 58
    },
    {
     "cell_type": "code",
     "collapsed": false,
     "input": [
      "# who has a birthday?\n",
      "q1 = read_expr('exists y. (has(x,y) & birthday(y))')\n",
      "m.satisfiers(q1,'x', g)"
     ],
     "language": "python",
     "metadata": {},
     "outputs": [
      {
       "metadata": {},
       "output_type": "pyout",
       "prompt_number": 59,
       "text": [
        "{'jb'}"
       ]
      }
     ],
     "prompt_number": 59
    },
    {
     "cell_type": "code",
     "collapsed": false,
     "input": [],
     "language": "python",
     "metadata": {},
     "outputs": []
    }
   ],
   "metadata": {}
  }
 ]
}