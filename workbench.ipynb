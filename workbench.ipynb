{
 "metadata": {
  "name": "",
  "signature": "sha256:2338e2dc8c08b023586a347bd2a032a18f48293c3b37cf4145ddc34fe45cd279"
 },
 "nbformat": 3,
 "nbformat_minor": 0,
 "worksheets": [
  {
   "cells": [
    {
     "cell_type": "heading",
     "level": 1,
     "metadata": {},
     "source": [
      "Load Data"
     ]
    },
    {
     "cell_type": "code",
     "collapsed": false,
     "input": [
      "import nltk\n",
      "import re\n",
      "from nltk.corpus import words\n",
      "from nltk.stem.porter import *\n",
      "from __future__ import division"
     ],
     "language": "python",
     "metadata": {},
     "outputs": [],
     "prompt_number": 1
    },
    {
     "cell_type": "code",
     "collapsed": false,
     "input": [
      "# stories, questions, answers\n",
      "f = open('data/mc160.dev.txt')\n",
      "raw = f.read()\n",
      "f.close()"
     ],
     "language": "python",
     "metadata": {},
     "outputs": [],
     "prompt_number": 2
    },
    {
     "cell_type": "code",
     "collapsed": false,
     "input": [
      "# correct answers\n",
      "f = open('data/mc160.dev.ans')\n",
      "raw_ans = f.read()\n",
      "f.close()"
     ],
     "language": "python",
     "metadata": {},
     "outputs": [],
     "prompt_number": 3
    },
    {
     "cell_type": "heading",
     "level": 1,
     "metadata": {},
     "source": [
      "Processes Correct Answers"
     ]
    },
    {
     "cell_type": "code",
     "collapsed": false,
     "input": [
      "def letterToNum(answerIndex):\n",
      "    conversion = {'A':0,'B':1,'C':2,'D':3}\n",
      "    return conversion[answerIndex]"
     ],
     "language": "python",
     "metadata": {},
     "outputs": [],
     "prompt_number": 4
    },
    {
     "cell_type": "code",
     "collapsed": false,
     "input": [
      "dev_answers = [list(map(letterToNum,answer_set.split('\\t'))) for answer_set in raw_ans.split('\\r\\n') if len(answer_set) > 0]"
     ],
     "language": "python",
     "metadata": {},
     "outputs": [],
     "prompt_number": 5
    },
    {
     "cell_type": "code",
     "collapsed": false,
     "input": [
      "dev_answers[:5]"
     ],
     "language": "python",
     "metadata": {},
     "outputs": [
      {
       "metadata": {},
       "output_type": "pyout",
       "prompt_number": 6,
       "text": [
        "[[0, 2, 1, 1], [2, 3, 3, 0], [0, 2, 3, 3], [0, 1, 2, 1], [1, 1, 1, 2]]"
       ]
      }
     ],
     "prompt_number": 6
    },
    {
     "cell_type": "heading",
     "level": 1,
     "metadata": {},
     "source": [
      "Processes Passages into Dicts"
     ]
    },
    {
     "cell_type": "code",
     "collapsed": false,
     "input": [
      "data = {}\n",
      "passages = raw.split('\\r\\n\\r\\n\\r\\n')[:-1]\n",
      "for (i,passage) in enumerate(passages):\n",
      "    passage = re.sub(r'\\s+',' ',passage) # get rid of whitespace\n",
      "    passage = re.sub(r'\\*.*\\(s\\)\\: \\d+ ','',passage) # get rid of headers\n",
      "    elements = re.split(r'\\d:',passage) # split story and questions\n",
      "    story,questions = elements[0],elements[1:]\n",
      "    comprehension = {}\n",
      "    for (j,question) in enumerate(questions):\n",
      "        q_type, qa = question.split(': ') # split question type\n",
      "        qa_clean = re.split(r'..\\) ',qa) # split question and each answer\n",
      "        question, answers = qa_clean[0], qa_clean[1:]\n",
      "        answers = [a.strip() for a in answers] # remove whitespace\n",
      "        comprehension['question_'+str(j)] = {'question_text': question.strip(), 'answers': answers, 'question_type': q_type.strip()}\n",
      "    data['passage_'+str(i)] = {'story': story, 'questions': comprehension}"
     ],
     "language": "python",
     "metadata": {},
     "outputs": [],
     "prompt_number": 1011
    },
    {
     "cell_type": "code",
     "collapsed": false,
     "input": [
      "# test\n",
      "len(data)"
     ],
     "language": "python",
     "metadata": {},
     "outputs": [
      {
       "metadata": {},
       "output_type": "pyout",
       "prompt_number": 1012,
       "text": [
        "30"
       ]
      }
     ],
     "prompt_number": 1012
    },
    {
     "cell_type": "code",
     "collapsed": false,
     "input": [
      "# test\n",
      "qtypes = ['one','multiple']\n",
      "for qtype in qtypes:\n",
      "    count = 0\n",
      "    for i in range(len(data)):\n",
      "        for j in range(len(data['passage_'+str(i)]['questions'])):\n",
      "            if data['passage_'+str(i)]['questions']['question_'+str(j)]['question_type'] == qtype: count += 1\n",
      "    print qtype, count"
     ],
     "language": "python",
     "metadata": {},
     "outputs": [
      {
       "output_type": "stream",
       "stream": "stdout",
       "text": [
        "one 53\n",
        "multiple 67\n"
       ]
      }
     ],
     "prompt_number": 1013
    },
    {
     "cell_type": "code",
     "collapsed": false,
     "input": [
      "#test\n",
      "data['passage_0']['questions']['question_0']['answers']"
     ],
     "language": "python",
     "metadata": {},
     "outputs": [
      {
       "metadata": {},
       "output_type": "pyout",
       "prompt_number": 1014,
       "text": [
        "['Jessie Bear', 'no one', 'Lion', 'Tiger']"
       ]
      }
     ],
     "prompt_number": 1014
    },
    {
     "cell_type": "heading",
     "level": 1,
     "metadata": {},
     "source": [
      "Processes Passages into Objects (Preferred)"
     ]
    },
    {
     "cell_type": "code",
     "collapsed": false,
     "input": [
      "class Passage(object):\n",
      "\n",
      "    def __init__(self, title, story, questions):\n",
      "        self.title = title\n",
      "        self.story = nltk.word_tokenize(story)\n",
      "        self.questions = questions\n",
      "    \n",
      "    def display(self):\n",
      "        print ' '.join(self.story)\n",
      "        for q in self.questions:\n",
      "            print '\\n' + ' '.join(q.qtext) +' ('+q.qtype+')'\n",
      "            for a in q.answers:\n",
      "                print '\\t' + ' '.join(a.atext)\n",
      "        \n",
      "class Question(object):\n",
      "    \n",
      "    def __init__(self, qtext, qtype, answers):\n",
      "        self.qtext = nltk.word_tokenize(qtext)\n",
      "        self.qtype = qtype\n",
      "        self.answers = answers\n",
      "\n",
      "class Answer(object):\n",
      "    \n",
      "    def __init__(self, atext):\n",
      "        self.atext = nltk.word_tokenize(atext)"
     ],
     "language": "python",
     "metadata": {},
     "outputs": [],
     "prompt_number": 7
    },
    {
     "cell_type": "code",
     "collapsed": true,
     "input": [
      "dev_data = []\n",
      "passages = raw.split('\\r\\n\\r\\n\\r\\n')[:-1]\n",
      "for (i,passage) in enumerate(passages):\n",
      "    passage = re.sub(r'\\s+',' ',passage) # get rid of whitespace\n",
      "    passage = re.sub(r'\\*.*\\(s\\)\\: \\d+ ','',passage) # get rid of headers\n",
      "    elements = re.split(r'\\d:',passage) # split story and questions\n",
      "    story,questions = elements[0].strip(),elements[1:] #split, remove whitespace\n",
      "    qs = []\n",
      "    for (j,question) in enumerate(questions):\n",
      "        q_type, qa = question.split(': ') # split question type\n",
      "        qa_split = re.split(r'..\\) ',qa) # split question and each answer\n",
      "        question, answers = qa_split[0], qa_split[1:]\n",
      "        q_type = q_type.strip() # remove whitespace\n",
      "        q_text = question.strip() # remove whitespace\n",
      "        answers = [Answer(a.strip()) for a in answers] # remove whitespace\n",
      "        q = Question(q_text,q_type,answers)\n",
      "        qs[j:] = [q]\n",
      "    p = Passage('mc160.dev.'+str(i),story,qs)\n",
      "    dev_data[i:] = [p]"
     ],
     "language": "python",
     "metadata": {},
     "outputs": [],
     "prompt_number": 8
    },
    {
     "cell_type": "code",
     "collapsed": false,
     "input": [
      "# test\n",
      "len(dev_data)"
     ],
     "language": "python",
     "metadata": {},
     "outputs": [
      {
       "metadata": {},
       "output_type": "pyout",
       "prompt_number": 10,
       "text": [
        "30"
       ]
      }
     ],
     "prompt_number": 10
    },
    {
     "cell_type": "code",
     "collapsed": false,
     "input": [
      "# test\n",
      "qtypes = ['one','multiple']\n",
      "for qtype in qtypes:\n",
      "    count = 0\n",
      "    for passage in dev_data:\n",
      "        for question in passage.questions:\n",
      "            if question.qtype == qtype: count += 1\n",
      "    print qtype, count"
     ],
     "language": "python",
     "metadata": {},
     "outputs": [
      {
       "output_type": "stream",
       "stream": "stdout",
       "text": [
        "one 53\n",
        "multiple 67\n"
       ]
      }
     ],
     "prompt_number": 11
    },
    {
     "cell_type": "code",
     "collapsed": false,
     "input": [
      "#test\n",
      "dev_data[0].display()"
     ],
     "language": "python",
     "metadata": {},
     "outputs": [
      {
       "output_type": "stream",
       "stream": "stdout",
       "text": [
        "It was Jessie Bear 's birthday. She was having a party. She asked her two best friends to come to the party. She made a big cake , and hung up some balloons. Soon her friend Lion came over. Then her friend Tiger came over. Lion and Tiger brought presents with them. Jessie hugged her friends. She asked them if they would like to have cake. Yes ! said Lion. Yes yes ! said Tiger. Jessie cut the cake , and they all ate it together. Then Jessie opened her presents. She got a new jump rope and a fun game. She asked Lion and Tiger to play the game with her. The friends played and played. They all had a good time. Soon it was time for the party to be over. Lion and Tiger hugged Jessie and said goodbye to her. Thanks for a great birthday ! Jessie Bear told her two best friends .\n",
        "\n",
        "Who was having a birthday ? (one)\n",
        "\tJessie Bear\n",
        "\tno one\n",
        "\tLion\n",
        "\tTiger\n",
        "\n",
        "Who did n't come to the party ? (multiple)\n",
        "\tLion\n",
        "\tTiger\n",
        "\tSnake\n",
        "\tJessie Bear\n",
        "\n",
        "How did Jessie get ready for the party ? (multiple)\n",
        "\tmade cake and juice .\n",
        "\tmade cake and hung balloons .\n",
        "\tmade juice and cookies .\n",
        "\tmade juice and hung balloons .\n",
        "\n",
        "How many friends came to Jessie 's party ? (one)\n",
        "\tone\n",
        "\ttwo\n",
        "\tsix\n",
        "\tfour\n"
       ]
      }
     ],
     "prompt_number": 13
    },
    {
     "cell_type": "heading",
     "level": 2,
     "metadata": {},
     "source": [
      "Calculates Lexical Diversity (out of curiosity)"
     ]
    },
    {
     "cell_type": "code",
     "collapsed": true,
     "input": [
      "mcdev = ' '.join(' '.join(p.story) for p in dev_data)"
     ],
     "language": "python",
     "metadata": {},
     "outputs": [],
     "prompt_number": 14
    },
    {
     "cell_type": "code",
     "collapsed": false,
     "input": [
      "mcdev_types = set(nltk.word_tokenize(mcdev))\n",
      "mcdev_tokens = nltk.word_tokenize(mcdev)"
     ],
     "language": "python",
     "metadata": {},
     "outputs": [],
     "prompt_number": 15
    },
    {
     "cell_type": "code",
     "collapsed": false,
     "input": [
      "len(mcdev_tokens)/len(mcdev_types)"
     ],
     "language": "python",
     "metadata": {},
     "outputs": [
      {
       "metadata": {},
       "output_type": "pyout",
       "prompt_number": 16,
       "text": [
        "4.483561643835617"
       ]
      }
     ],
     "prompt_number": 16
    },
    {
     "cell_type": "heading",
     "level": 1,
     "metadata": {},
     "source": [
      "Answer Questions and Evaluates Performance"
     ]
    },
    {
     "cell_type": "heading",
     "level": 2,
     "metadata": {},
     "source": [
      "Defines Answer Scorers"
     ]
    },
    {
     "cell_type": "code",
     "collapsed": false,
     "input": [
      "# selects answer that appears most in the story\n",
      "# ignores words in answer that also appear in the question\n",
      "def overlapScorer(story,question,answer):\n",
      "    return len([word for word in story if word in set(answer).difference(question)])\n",
      "\n",
      "# does not ignore words in answer that also appear in the question\n",
      "def overlapScorer2(story,question,answer):\n",
      "    return len([word for word in story if word in answer])\n",
      "\n",
      "# like scorer1 but excludes stop words\n",
      "def overlapScorer3(story,question,answer):\n",
      "    stopwords = nltk.corpus.stopwords.words(fileids=['english'])\n",
      "    return len([word for word in story if word in set(answer).difference(question+stopwords)])"
     ],
     "language": "python",
     "metadata": {},
     "outputs": [],
     "prompt_number": 17
    },
    {
     "cell_type": "heading",
     "level": 2,
     "metadata": {},
     "source": [
      "Defines Question Answerer"
     ]
    },
    {
     "cell_type": "code",
     "collapsed": false,
     "input": [
      "def answerQuestion(story,question,answers,scorer):\n",
      "            \n",
      "    best_score = 0\n",
      "    best_answer = answers[0]\n",
      "    for answer in answers:\n",
      "        score = scorer(story,question,answer)\n",
      "        if  score > best_score:\n",
      "            best_answer = answer\n",
      "            best_score = score\n",
      "            \n",
      "    return best_answer"
     ],
     "language": "python",
     "metadata": {},
     "outputs": [],
     "prompt_number": 18
    },
    {
     "cell_type": "heading",
     "level": 2,
     "metadata": {},
     "source": [
      "Scores an Answerer on Passages"
     ]
    },
    {
     "cell_type": "code",
     "collapsed": false,
     "input": [
      "def evaluateOnPassages(scorer,passages,correct_answers,verbose = False):\n",
      "    num_correct = 0\n",
      "    num_total = sum([len(p.questions) for p in passages])\n",
      "    for (i,passage) in enumerate(passages):\n",
      "        if verbose: print ' '.join(passage.story) + '\\n'\n",
      "        for (j,question) in enumerate(passage.questions):\n",
      "            answers = [a.atext for a in question.answers]\n",
      "            best_answer = answerQuestion(passage.story,question.qtext,answers,scorer)\n",
      "            best_index = [k for (k,a) in enumerate(question.answers) if a.atext == best_answer][0]\n",
      "            correct_index = correct_answers[i][j]\n",
      "            if best_index == correct_index: num_correct += 1\n",
      "            if verbose:\n",
      "                print ' '.join(question.qtext)\n",
      "                for a in question.answers: print '\\t' + ' '.join(a.atext)\n",
      "                print '\\n\\tSelected answer: ' + ' '.join(best_answer)\n",
      "                print '\\tCorrect answer: ' + ' '.join(question.answers[correct_index].atext) + '\\n'\n",
      "    return num_correct / num_total"
     ],
     "language": "python",
     "metadata": {},
     "outputs": [],
     "prompt_number": 19
    },
    {
     "cell_type": "code",
     "collapsed": false,
     "input": [
      "evaluateOnPassages(overlapScorer,dev_data,dev_answers,verbose=False)"
     ],
     "language": "python",
     "metadata": {},
     "outputs": [
      {
       "metadata": {},
       "output_type": "pyout",
       "prompt_number": 20,
       "text": [
        "0.4583333333333333"
       ]
      }
     ],
     "prompt_number": 20
    },
    {
     "cell_type": "code",
     "collapsed": false,
     "input": [
      "evaluateOnPassages(overlapScorer2,dev_data,dev_answers,verbose=False)"
     ],
     "language": "python",
     "metadata": {},
     "outputs": [
      {
       "metadata": {},
       "output_type": "pyout",
       "prompt_number": 21,
       "text": [
        "0.4166666666666667"
       ]
      }
     ],
     "prompt_number": 21
    },
    {
     "cell_type": "code",
     "collapsed": false,
     "input": [
      "evaluateOnPassages(overlapScorer3,dev_data,dev_answers,verbose=False)"
     ],
     "language": "python",
     "metadata": {},
     "outputs": [
      {
       "metadata": {},
       "output_type": "pyout",
       "prompt_number": 22,
       "text": [
        "0.45"
       ]
      }
     ],
     "prompt_number": 22
    },
    {
     "cell_type": "code",
     "collapsed": false,
     "input": [
      "num = 0\n",
      "evaluateOnPassages(overlapScorer,[dev_data[num]],[dev_answers[num]],verbose=True)"
     ],
     "language": "python",
     "metadata": {},
     "outputs": [
      {
       "output_type": "stream",
       "stream": "stdout",
       "text": [
        "It was Jessie Bear 's birthday. She was having a party. She asked her two best friends to come to the party. She made a big cake , and hung up some balloons. Soon her friend Lion came over. Then her friend Tiger came over. Lion and Tiger brought presents with them. Jessie hugged her friends. She asked them if they would like to have cake. Yes ! said Lion. Yes yes ! said Tiger. Jessie cut the cake , and they all ate it together. Then Jessie opened her presents. She got a new jump rope and a fun game. She asked Lion and Tiger to play the game with her. The friends played and played. They all had a good time. Soon it was time for the party to be over. Lion and Tiger hugged Jessie and said goodbye to her. Thanks for a great birthday ! Jessie Bear told her two best friends .\n",
        "\n",
        "Who was having a birthday ?\n",
        "\tJessie Bear\n",
        "\tno one\n",
        "\tLion\n",
        "\tTiger\n",
        "\n",
        "\tSelected answer: Jessie Bear\n",
        "\tCorrect answer: Jessie Bear\n",
        "\n",
        "Who did n't come to the party ?\n",
        "\tLion\n",
        "\tTiger\n",
        "\tSnake\n",
        "\tJessie Bear\n",
        "\n",
        "\tSelected answer: Jessie Bear\n",
        "\tCorrect answer: Snake\n",
        "\n",
        "How did Jessie get ready for the party ?\n",
        "\tmade cake and juice .\n",
        "\tmade cake and hung balloons .\n",
        "\tmade juice and cookies .\n",
        "\tmade juice and hung balloons .\n",
        "\n",
        "\tSelected answer: made cake and hung balloons .\n",
        "\tCorrect answer: made cake and hung balloons .\n",
        "\n",
        "How many friends came to Jessie 's party ?\n",
        "\tone\n",
        "\ttwo\n",
        "\tsix\n",
        "\tfour\n",
        "\n",
        "\tSelected answer: two\n",
        "\tCorrect answer: two\n",
        "\n"
       ]
      },
      {
       "metadata": {},
       "output_type": "pyout",
       "prompt_number": 23,
       "text": [
        "0.75"
       ]
      }
     ],
     "prompt_number": 23
    },
    {
     "cell_type": "code",
     "collapsed": false,
     "input": [],
     "language": "python",
     "metadata": {},
     "outputs": []
    }
   ],
   "metadata": {}
  }
 ]
}