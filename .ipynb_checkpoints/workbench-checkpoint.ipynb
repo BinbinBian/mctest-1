{
 "metadata": {
  "name": "",
  "signature": "sha256:4fae5801bb827596dc5ef3d1c797a01f89784b13cfff4d5bac2cca1cdb88e50d"
 },
 "nbformat": 3,
 "nbformat_minor": 0,
 "worksheets": [
  {
   "cells": [
    {
     "cell_type": "heading",
     "level": 1,
     "metadata": {},
     "source": [
      "Load Data"
     ]
    },
    {
     "cell_type": "code",
     "collapsed": false,
     "input": [
      "import nltk\n",
      "import re\n",
      "from __future__ import division"
     ],
     "language": "python",
     "metadata": {},
     "outputs": [],
     "prompt_number": 1
    },
    {
     "cell_type": "code",
     "collapsed": false,
     "input": [
      "## read raw data\n",
      "\n",
      "# path containing all data\n",
      "path = 'data/mc160.dev'\n",
      "\n",
      "# passages and correct answer file names\n",
      "passages_file = path + '.tsv'\n",
      "correct_answers_file = path + '.ans'\n",
      "\n",
      "# read passages\n",
      "f = open(passages_file)\n",
      "raw_passages = f.read()\n",
      "f.close()\n",
      "\n",
      "# read correct answers\n",
      "f = open(correct_answers_file)\n",
      "raw_correct_answers = f.read()\n",
      "f.close()"
     ],
     "language": "python",
     "metadata": {},
     "outputs": [],
     "prompt_number": 2
    },
    {
     "cell_type": "heading",
     "level": 1,
     "metadata": {},
     "source": [
      "Processes Passages into Objects"
     ]
    },
    {
     "cell_type": "code",
     "collapsed": false,
     "input": [
      "class Text(object):\n",
      "    \n",
      "    def __init__(self, text):\n",
      "        self.text = text\n",
      "        self.words = nltk.word_tokenize(text)\n",
      "        self.sents = nltk.sent_tokenize(text)\n",
      "\n",
      "class Passage(Text):\n",
      "\n",
      "    def __init__(self, title, story, questions):\n",
      "        Text.__init__(self,story)\n",
      "        self.title = title\n",
      "        self.questions = questions\n",
      "    \n",
      "    def display(self):\n",
      "        print self.text\n",
      "        for q in self.questions:\n",
      "            print '\\n' + q.text + ' (' + q.qtype + ')'\n",
      "            for a in q.answers:\n",
      "                print '\\t' + a.text\n",
      "            print '\\n\\tCorrect Answer: ' + q.correct_answer.text\n",
      "        \n",
      "class Question(Text):\n",
      "    \n",
      "    def __init__(self, qtext, qtype, answers, correct_answer):\n",
      "        Text.__init__(self,qtext)\n",
      "        self.qtype = qtype\n",
      "        self.answers = answers\n",
      "        self.correct_answer = correct_answer\n",
      "\n",
      "class Answer(Text):\n",
      "    \n",
      "    def __init__(self, atext):\n",
      "        Text.__init__(self,atext)"
     ],
     "language": "python",
     "metadata": {},
     "outputs": [],
     "prompt_number": 3
    },
    {
     "cell_type": "code",
     "collapsed": false,
     "input": [
      "def letterToNum(answerIndex):\n",
      "    conversion = {'A':0,'B':1,'C':2,'D':3}\n",
      "    return conversion[answerIndex]"
     ],
     "language": "python",
     "metadata": {},
     "outputs": [],
     "prompt_number": 4
    },
    {
     "cell_type": "code",
     "collapsed": false,
     "input": [
      "# parse correct answers\n",
      "correct_answers = [list(map(letterToNum,answer_set.split('\\t'))) for answer_set in raw_correct_answers.split('\\r\\n') if len(answer_set) > 0]"
     ],
     "language": "python",
     "metadata": {},
     "outputs": [],
     "prompt_number": 5
    },
    {
     "cell_type": "code",
     "collapsed": false,
     "input": [
      "# parse passages\n",
      "data = []\n",
      "passages = raw_passages.split('\\r\\n')[:-1] # split passages\n",
      "for (i,passage) in enumerate(passages):\n",
      "    elements = passage.split('\\t') # split passage elements\n",
      "    title = elements[0] # get title\n",
      "    story = elements[2] # get story, replace escaped newlines and tabs\n",
      "    story = re.sub(r'\\\\newline','\\n',story)\n",
      "    story = re.sub(r'\\\\tab','\\t',story)\n",
      "    questions = []\n",
      "    for j in range(4):\n",
      "        question_elements = elements[3+5*j:3+5*(j+1)] # get question elements\n",
      "        qtype, qtext = question_elements[0].split(': ') # get question type and text\n",
      "        answers = [Answer(text) for text in question_elements[1:5]] # get answers\n",
      "        correct_answer = answers[correct_answers[i][j]] # get correct answer (from answer data)\n",
      "        question = Question(qtext,qtype,answers,correct_answer) # define question\n",
      "        questions[j:] = [question]\n",
      "    p = Passage(title,story,questions) # define passage\n",
      "    data[i:] = [p]"
     ],
     "language": "python",
     "metadata": {},
     "outputs": [],
     "prompt_number": 6
    },
    {
     "cell_type": "code",
     "collapsed": false,
     "input": [
      "# test\n",
      "len(data)"
     ],
     "language": "python",
     "metadata": {},
     "outputs": [
      {
       "metadata": {},
       "output_type": "pyout",
       "prompt_number": 7,
       "text": [
        "30"
       ]
      }
     ],
     "prompt_number": 7
    },
    {
     "cell_type": "code",
     "collapsed": false,
     "input": [
      "# test\n",
      "qtypes = ['one','multiple']\n",
      "for qtype in qtypes:\n",
      "    count = 0\n",
      "    for passage in data:\n",
      "        for question in passage.questions:\n",
      "            if question.qtype == qtype: count += 1\n",
      "    print qtype, count"
     ],
     "language": "python",
     "metadata": {},
     "outputs": [
      {
       "output_type": "stream",
       "stream": "stdout",
       "text": [
        "one 53\n",
        "multiple 67\n"
       ]
      }
     ],
     "prompt_number": 8
    },
    {
     "cell_type": "code",
     "collapsed": false,
     "input": [
      "#test\n",
      "data[0].display()"
     ],
     "language": "python",
     "metadata": {},
     "outputs": [
      {
       "output_type": "stream",
       "stream": "stdout",
       "text": [
        "It was Jessie Bear's birthday. She was having a party.  She asked her two best friends to\n",
        "come to the party.  She made a big cake, and hung up some balloons.\n",
        "\n",
        "Soon her friend Lion came over. Then her friend Tiger came over. Lion and Tiger brought\n",
        "presents with them.\n",
        "\n",
        "Jessie hugged her friends. She asked them if they would like to have cake. \n",
        "\n",
        "Yes! said Lion. Yes yes! said Tiger. Jessie cut the cake, and they all ate it together.\n",
        "Then Jessie opened her presents. She got a new jump rope and a fun game.  She asked Lion\n",
        "and Tiger to play the game with her.\n",
        "\n",
        "The friends played and played. They all had a good time. Soon it was time for the party to\n",
        "be over.\n",
        "\n",
        "Lion and Tiger hugged Jessie and said goodbye to her.  Thanks for a great birthday! Jessie\n",
        "Bear told her two best friends.\n",
        "\n",
        "Who was having a birthday? (one)\n",
        "\tJessie Bear\n",
        "\tno one\n",
        "\tLion\n",
        "\tTiger\n",
        "\n",
        "\tCorrect Answer: Jessie Bear\n",
        "\n",
        "Who didn't come to the party? (multiple)\n",
        "\tLion\n",
        "\tTiger\n",
        "\tSnake\n",
        "\tJessie Bear\n",
        "\n",
        "\tCorrect Answer: Snake\n",
        "\n",
        "How did Jessie get ready for the party? (multiple)\n",
        "\tmade cake and juice.\n",
        "\tmade cake and hung balloons.\n",
        "\tmade juice and cookies.\n",
        "\tmade juice and hung balloons.\n",
        "\n",
        "\tCorrect Answer: made cake and hung balloons.\n",
        "\n",
        "How many friends came to Jessie's party? (one)\n",
        "\tone\n",
        "\ttwo\n",
        "\tsix\n",
        "\tfour\n",
        "\n",
        "\tCorrect Answer: two\n"
       ]
      }
     ],
     "prompt_number": 9
    },
    {
     "cell_type": "heading",
     "level": 2,
     "metadata": {},
     "source": [
      "Calculates Lexical Diversity (out of curiosity)"
     ]
    },
    {
     "cell_type": "code",
     "collapsed": true,
     "input": [
      "fulltext = ' '.join(p.text for p in data)"
     ],
     "language": "python",
     "metadata": {},
     "outputs": [],
     "prompt_number": 10
    },
    {
     "cell_type": "code",
     "collapsed": false,
     "input": [
      "types = set(nltk.word_tokenize(fulltext))\n",
      "tokens = nltk.word_tokenize(fulltext)"
     ],
     "language": "python",
     "metadata": {},
     "outputs": [],
     "prompt_number": 11
    },
    {
     "cell_type": "code",
     "collapsed": false,
     "input": [
      "len(tokens)/len(types)"
     ],
     "language": "python",
     "metadata": {},
     "outputs": [
      {
       "metadata": {},
       "output_type": "pyout",
       "prompt_number": 12,
       "text": [
        "4.4380108991825615"
       ]
      }
     ],
     "prompt_number": 12
    },
    {
     "cell_type": "heading",
     "level": 1,
     "metadata": {},
     "source": [
      "Answer Questions and Evaluates Performance"
     ]
    },
    {
     "cell_type": "heading",
     "level": 2,
     "metadata": {},
     "source": [
      "Defines Answer Scorers"
     ]
    },
    {
     "cell_type": "code",
     "collapsed": false,
     "input": [
      "# selects answer that appears most in the story\n",
      "# ignores words in answer that also appear in the question\n",
      "def overlapScorer(passage,question,answer):\n",
      "    return len([word for word in passage.words if word in set(answer.words).difference(question.words)])\n",
      "\n",
      "# does not ignore words in answer that also appear in the question\n",
      "def overlapScorer2(passage,question,answer):\n",
      "    return len([word for word in passage.words if word in answer.words])\n",
      "\n",
      "# like scorer1 but excludes stop words\n",
      "def overlapScorer3(passage,question,answer):\n",
      "    stopwords = nltk.corpus.stopwords.words(fileids=['english'])\n",
      "    return len([word for word in passage.words if word in set(answer.words).difference(question.words+stopwords)])"
     ],
     "language": "python",
     "metadata": {},
     "outputs": [],
     "prompt_number": 13
    },
    {
     "cell_type": "heading",
     "level": 2,
     "metadata": {},
     "source": [
      "Defines Question Answerer"
     ]
    },
    {
     "cell_type": "code",
     "collapsed": false,
     "input": [
      "def answerQuestion(passage,question,answers,scorer):\n",
      "            \n",
      "    best_score = 0\n",
      "    best_answer = answers[0]\n",
      "    for answer in answers:\n",
      "        score = scorer(passage,question,answer)\n",
      "        if  score > best_score:\n",
      "            best_answer = answer\n",
      "            best_score = score\n",
      "            \n",
      "    return best_answer"
     ],
     "language": "python",
     "metadata": {},
     "outputs": [],
     "prompt_number": 14
    },
    {
     "cell_type": "heading",
     "level": 2,
     "metadata": {},
     "source": [
      "Scores an Answerer on Passages"
     ]
    },
    {
     "cell_type": "code",
     "collapsed": false,
     "input": [
      "def evaluateOnPassages(scorer,passages,verbose = False):\n",
      "    num_correct = 0\n",
      "    num_total = sum([len(p.questions) for p in passages])\n",
      "    for (i,passage) in enumerate(passages):\n",
      "        if verbose: print passage.text + '\\n'\n",
      "        for (j,question) in enumerate(passage.questions):\n",
      "            best_answer = answerQuestion(passage,question,question.answers,scorer)\n",
      "            if best_answer == question.correct_answer: num_correct += 1\n",
      "            if verbose:\n",
      "                print question.text\n",
      "                for answer in question.answers: print '\\t' + answer.text\n",
      "                print '\\n\\tSelected answer: ' + best_answer.text\n",
      "                print '\\tCorrect answer: ' + question.correct_answer.text + '\\n'\n",
      "    return num_correct / num_total"
     ],
     "language": "python",
     "metadata": {},
     "outputs": [],
     "prompt_number": 15
    },
    {
     "cell_type": "code",
     "collapsed": false,
     "input": [
      "evaluateOnPassages(overlapScorer,data,verbose=False)"
     ],
     "language": "python",
     "metadata": {},
     "outputs": [
      {
       "metadata": {},
       "output_type": "pyout",
       "prompt_number": 16,
       "text": [
        "0.4583333333333333"
       ]
      }
     ],
     "prompt_number": 16
    },
    {
     "cell_type": "code",
     "collapsed": false,
     "input": [
      "evaluateOnPassages(overlapScorer2,data,verbose=False)"
     ],
     "language": "python",
     "metadata": {},
     "outputs": [
      {
       "metadata": {},
       "output_type": "pyout",
       "prompt_number": 17,
       "text": [
        "0.4166666666666667"
       ]
      }
     ],
     "prompt_number": 17
    },
    {
     "cell_type": "code",
     "collapsed": false,
     "input": [
      "evaluateOnPassages(overlapScorer3,data,verbose=False)"
     ],
     "language": "python",
     "metadata": {},
     "outputs": [
      {
       "metadata": {},
       "output_type": "pyout",
       "prompt_number": 18,
       "text": [
        "0.45"
       ]
      }
     ],
     "prompt_number": 18
    },
    {
     "cell_type": "code",
     "collapsed": false,
     "input": [
      "num = 0\n",
      "evaluateOnPassages(overlapScorer,[data[num]],verbose=True)"
     ],
     "language": "python",
     "metadata": {},
     "outputs": [
      {
       "output_type": "stream",
       "stream": "stdout",
       "text": [
        "It was Jessie Bear's birthday. She was having a party.  She asked her two best friends to\n",
        "come to the party.  She made a big cake, and hung up some balloons.\n",
        "\n",
        "Soon her friend Lion came over. Then her friend Tiger came over. Lion and Tiger brought\n",
        "presents with them.\n",
        "\n",
        "Jessie hugged her friends. She asked them if they would like to have cake. \n",
        "\n",
        "Yes! said Lion. Yes yes! said Tiger. Jessie cut the cake, and they all ate it together.\n",
        "Then Jessie opened her presents. She got a new jump rope and a fun game.  She asked Lion\n",
        "and Tiger to play the game with her.\n",
        "\n",
        "The friends played and played. They all had a good time. Soon it was time for the party to\n",
        "be over.\n",
        "\n",
        "Lion and Tiger hugged Jessie and said goodbye to her.  Thanks for a great birthday! Jessie\n",
        "Bear told her two best friends.\n",
        "\n",
        "Who was having a birthday?\n",
        "\tJessie Bear\n",
        "\tno one\n",
        "\tLion\n",
        "\tTiger\n",
        "\n",
        "\tSelected answer: Jessie Bear\n",
        "\tCorrect answer: Jessie Bear\n",
        "\n",
        "Who didn't come to the party?\n",
        "\tLion\n",
        "\tTiger\n",
        "\tSnake\n",
        "\tJessie Bear\n",
        "\n",
        "\tSelected answer: Jessie Bear\n",
        "\tCorrect answer: Snake\n",
        "\n",
        "How did Jessie get ready for the party?\n",
        "\tmade cake and juice.\n",
        "\tmade cake and hung balloons.\n",
        "\tmade juice and cookies.\n",
        "\tmade juice and hung balloons.\n",
        "\n",
        "\tSelected answer: made cake and hung balloons.\n",
        "\tCorrect answer: made cake and hung balloons.\n",
        "\n",
        "How many friends came to Jessie's party?\n",
        "\tone\n",
        "\ttwo\n",
        "\tsix\n",
        "\tfour\n",
        "\n",
        "\tSelected answer: two\n",
        "\tCorrect answer: two\n",
        "\n"
       ]
      },
      {
       "metadata": {},
       "output_type": "pyout",
       "prompt_number": 19,
       "text": [
        "0.75"
       ]
      }
     ],
     "prompt_number": 19
    },
    {
     "cell_type": "code",
     "collapsed": false,
     "input": [],
     "language": "python",
     "metadata": {},
     "outputs": []
    }
   ],
   "metadata": {}
  }
 ]
}