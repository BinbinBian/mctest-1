{
 "metadata": {
  "name": "",
  "signature": "sha256:113c5c3b0a62e11b6e5ff395e2c6a99a89d8cd6e2b2718b1ca6df26d57bac1d5"
 },
 "nbformat": 3,
 "nbformat_minor": 0,
 "worksheets": [
  {
   "cells": [
    {
     "cell_type": "code",
     "collapsed": false,
     "input": [
      "import nltk\n",
      "import re\n",
      "from nltk.corpus import words"
     ],
     "language": "python",
     "metadata": {},
     "outputs": [],
     "prompt_number": 337
    },
    {
     "cell_type": "code",
     "collapsed": false,
     "input": [
      "f = open('mc160.dev.txt')\n",
      "raw = f.read()\n",
      "f.close()"
     ],
     "language": "python",
     "metadata": {},
     "outputs": [],
     "prompt_number": 149
    },
    {
     "cell_type": "code",
     "collapsed": false,
     "input": [
      "dev_data = {}\n",
      "passages = raw.split('\\r\\n\\r\\n\\r\\n')[:-1]\n",
      "for (i,passage) in enumerate(passages):\n",
      "    passage = re.sub(r'\\s+',' ',passage) # get rid of whitespace\n",
      "    passage = re.sub(r'\\*.*\\(s\\)\\: \\d+ ','',passage) # get rid of headers\n",
      "    elements = re.split(r'\\d:',passage) # split story and questions\n",
      "    story,questions = elements[0],elements[1:]\n",
      "    comprehension = {}\n",
      "    for (j,question) in enumerate(questions):\n",
      "        q_type, qa = question.split(': ') # split question type\n",
      "        qa_clean = re.split(r'..\\) ',qa) # split question and each answer\n",
      "        question, answers = qa_clean[0], qa_clean[1:]\n",
      "        answers = [a.strip() for a in answers] # remove whitespace\n",
      "        comprehension['question_'+str(j)] = {'question_text': question.strip(), 'answers': answers, 'question_type': q_type.strip()}\n",
      "    dev_data['passage_'+str(i)] = {'story': story, 'questions': comprehension}"
     ],
     "language": "python",
     "metadata": {},
     "outputs": [],
     "prompt_number": 263
    },
    {
     "cell_type": "code",
     "collapsed": false,
     "input": [
      "# test\n",
      "len(dev_data)"
     ],
     "language": "python",
     "metadata": {},
     "outputs": [
      {
       "metadata": {},
       "output_type": "pyout",
       "prompt_number": 264,
       "text": [
        "30"
       ]
      }
     ],
     "prompt_number": 264
    },
    {
     "cell_type": "code",
     "collapsed": false,
     "input": [
      "# test\n",
      "qtypes = ['one','multiple']\n",
      "for qtype in qtypes:\n",
      "    count = 0\n",
      "    for i in range(len(dev_data)):\n",
      "        for j in range(len(dev_data['passage_'+str(i)]['questions'])):\n",
      "            if dev_data['passage_'+str(i)]['questions']['question_'+str(j)]['question_type'] == qtype: count += 1\n",
      "    print qtype, count"
     ],
     "language": "python",
     "metadata": {},
     "outputs": [
      {
       "output_type": "stream",
       "stream": "stdout",
       "text": [
        "one 53\n",
        "multiple 67\n"
       ]
      }
     ],
     "prompt_number": 265
    },
    {
     "cell_type": "code",
     "collapsed": false,
     "input": [
      "dev_data['passage_1']['questions']['question_1']['answers']"
     ],
     "language": "python",
     "metadata": {},
     "outputs": [
      {
       "metadata": {},
       "output_type": "pyout",
       "prompt_number": 266,
       "text": [
        "['Learn to ride a bike.',\n",
        " 'Go to a baseball game.',\n",
        " 'Go back to the beach.',\n",
        " 'Keep in touch with her new friend, Tina.']"
       ]
      }
     ],
     "prompt_number": 266
    },
    {
     "cell_type": "code",
     "collapsed": false,
     "input": [
      "class Passage(object):\n",
      "\n",
      "    def __init__(self, title, story, questions):\n",
      "        self.title = title\n",
      "        self.story = story\n",
      "        self.questions = questions\n",
      "\n",
      "        \n",
      "class QuestionSet(object):\n",
      "    \n",
      "    def __init__(self, questions):\n",
      "        self.questions = questions\n",
      "        \n",
      "    def getQuestionTexts(self):\n",
      "        return [q.qtext for q in self.questions]\n",
      "        \n",
      "        \n",
      "class Question(object):\n",
      "    \n",
      "    def __init__(self, qtext, qtype, answers):\n",
      "        self.qtext = qtext\n",
      "        self.qtype = qtype\n",
      "        self.answers = answers"
     ],
     "language": "python",
     "metadata": {},
     "outputs": [],
     "prompt_number": 314
    },
    {
     "cell_type": "code",
     "collapsed": false,
     "input": [
      "q = Question(dev_data['passage_0']['questions']['question_0']['question_text'],\n",
      "             dev_data['passage_0']['questions']['question_0']['question_type'],\n",
      "             dev_data['passage_0']['questions']['question_0']['answers'])"
     ],
     "language": "python",
     "metadata": {},
     "outputs": [],
     "prompt_number": 297
    },
    {
     "cell_type": "code",
     "collapsed": false,
     "input": [
      "q.answers"
     ],
     "language": "python",
     "metadata": {},
     "outputs": [
      {
       "metadata": {},
       "output_type": "pyout",
       "prompt_number": 298,
       "text": [
        "['Jessie Bear', 'no one', 'Lion', 'Tiger']"
       ]
      }
     ],
     "prompt_number": 298
    },
    {
     "cell_type": "code",
     "collapsed": false,
     "input": [
      "qs = QuestionSet([q])"
     ],
     "language": "python",
     "metadata": {},
     "outputs": [],
     "prompt_number": 299
    },
    {
     "cell_type": "code",
     "collapsed": false,
     "input": [
      "qs.getQuestionTexts()"
     ],
     "language": "python",
     "metadata": {},
     "outputs": [
      {
       "metadata": {},
       "output_type": "pyout",
       "prompt_number": 300,
       "text": [
        "['Who was having a birthday?']"
       ]
      }
     ],
     "prompt_number": 300
    },
    {
     "cell_type": "code",
     "collapsed": false,
     "input": [
      "p = Passage(dev_data['passage_0']['story'],qs)"
     ],
     "language": "python",
     "metadata": {},
     "outputs": [],
     "prompt_number": 301
    },
    {
     "cell_type": "code",
     "collapsed": false,
     "input": [
      "p.questions.getQuestionTexts()"
     ],
     "language": "python",
     "metadata": {},
     "outputs": [
      {
       "metadata": {},
       "output_type": "pyout",
       "prompt_number": 302,
       "text": [
        "['Who was having a birthday?']"
       ]
      }
     ],
     "prompt_number": 302
    },
    {
     "cell_type": "code",
     "collapsed": false,
     "input": [
      "p.story"
     ],
     "language": "python",
     "metadata": {},
     "outputs": [
      {
       "metadata": {},
       "output_type": "pyout",
       "prompt_number": 303,
       "text": [
        "\"It was Jessie Bear's birthday. She was having a party. She asked her two best friends to come to the party. She made a big cake, and hung up some balloons. Soon her friend Lion came over. Then her friend Tiger came over. Lion and Tiger brought presents with them. Jessie hugged her friends. She asked them if they would like to have cake. Yes! said Lion. Yes yes! said Tiger. Jessie cut the cake, and they all ate it together. Then Jessie opened her presents. She got a new jump rope and a fun game. She asked Lion and Tiger to play the game with her. The friends played and played. They all had a good time. Soon it was time for the party to be over. Lion and Tiger hugged Jessie and said goodbye to her. Thanks for a great birthday! Jessie Bear told her two best friends. \""
       ]
      }
     ],
     "prompt_number": 303
    },
    {
     "cell_type": "code",
     "collapsed": true,
     "input": [
      "dev_data_2 = []\n",
      "passages = raw.split('\\r\\n\\r\\n\\r\\n')[:-1]\n",
      "for (i,passage) in enumerate(passages):\n",
      "    passage = re.sub(r'\\s+',' ',passage) # get rid of whitespace\n",
      "    passage = re.sub(r'\\*.*\\(s\\)\\: \\d+ ','',passage) # get rid of headers\n",
      "    elements = re.split(r'\\d:',passage) # split story and questions\n",
      "    story,questions = elements[0].strip(),elements[1:] #split, remove whitespace\n",
      "    qs = []\n",
      "    for (j,question) in enumerate(questions):\n",
      "        q_type, qa = question.split(': ') # split question type\n",
      "        qa_split = re.split(r'..\\) ',qa) # split question and each answer\n",
      "        question, answers = qa_split[0], qa_split[1:]\n",
      "        q_type = q_type.strip() # remove whitespace\n",
      "        q_text = question.strip() # remove whitespace\n",
      "        answers = [a.strip() for a in answers] # remove whitespace\n",
      "        q = Question(q_text,q_type,answers)\n",
      "        qs[j:] = [q]\n",
      "    qset = QuestionSet(qs)\n",
      "    p = Passage('mc160.dev.'+str(i),story,qset)\n",
      "    dev_data_2[i:] = [p]"
     ],
     "language": "python",
     "metadata": {},
     "outputs": [],
     "prompt_number": 330
    },
    {
     "cell_type": "code",
     "collapsed": false,
     "input": [
      "[p.story for p in dev_data_2]"
     ],
     "language": "python",
     "metadata": {},
     "outputs": [
      {
       "metadata": {},
       "output_type": "pyout",
       "prompt_number": 331,
       "text": [
        "[\"It was Jessie Bear's birthday. She was having a party. She asked her two best friends to come to the party. She made a big cake, and hung up some balloons. Soon her friend Lion came over. Then her friend Tiger came over. Lion and Tiger brought presents with them. Jessie hugged her friends. She asked them if they would like to have cake. Yes! said Lion. Yes yes! said Tiger. Jessie cut the cake, and they all ate it together. Then Jessie opened her presents. She got a new jump rope and a fun game. She asked Lion and Tiger to play the game with her. The friends played and played. They all had a good time. Soon it was time for the party to be over. Lion and Tiger hugged Jessie and said goodbye to her. Thanks for a great birthday! Jessie Bear told her two best friends.\",\n",
        " \"Sally had a very exciting summer vacation. She went to summer camp for the first time. She made friends with a girl named Tina. They shared a bunk bed in their cabin. Sally's favorite activity was walking in the woods because she enjoyed nature. Tina liked arts and crafts. Together, they made some art using leaves they found in the woods. Even after she fell in the water, Sally still enjoyed canoeing. She was sad when the camp was over, but promised to keep in touch with her new friend. Sally went to the beach with her family in the summer as well. She loves the beach. Sally collected shells and mailed some to her friend, Tina, so she could make some arts and crafts with them. Sally liked fishing with her brothers, cooking on the grill with her dad, and swimming in the ocean with her mother. The summer was fun, but Sally was very excited to go back to school. She missed her friends and teachers. She was excited to tell them about her summer vacation.\",\n",
        " 'Todd lived in a town outside the city . Unlike the city the town was peaceful and quiet and full of trees, flowers and animals. One day his dad came in from work and said \"Come on, son, I\\'m going to take you to the city.\" Todd was very exited so he put on his shoes and ran to the car. When they got to the city Todd was very surprised there were so many cars and people, everyone seemed to be in a hurry. There were no trees, no flowers, and no animals. Todd was so happy to get back home. When his mom asked him about his trip to the city Todd said,\"There\\'s no place like home.\"',\n",
        " 'Greta ran to the corner with her older brother Tony. He had money for the ice cream truck in his pocket and she was very happy. The ice cream truck had been parked at the curb waiting for children for a very long time. The ice cream truck driver thought that no more children were coming to get ice cream so he started pulling away from the curb when they got to the corner. They yelled. They screamed, \"Stop! Stop!\" and jumped up and down on the side walk trying to get him to see them. The driver of the truck saw them, waved at them and smiled, pulled back to the curb and opened his truck up so that they could see everything that he had for sale. They were so excited. They saw some new treats. Tony wanted to try something new. He got an ice cream sundae with chocolate ice cream and nuts. He almost got a snow cone. Greta looked at everything that the ice cream truck had. She saw candy, ice cream cones, snow cones, and everything else. It all looked so good. But after looking at everything, she wanted to get an ice cream sandwich. She got the ice cream sandwich. She bit into it and smiled. It tasted so good. She felt so happy. Her brother, Tony, was happy too. He bit into his ice cream cone sundae and grinned. They walked home with their ice cream and told their mom about how close they came to not getting their ice cream at all. Their mom was happy that the truck had stopped for them. She said that they were very lucky to have gotten to the curb before the ice cream truck left.',\n",
        " \"My parents, Kelly and Kelley, said that it was that time of year to take a family vacation. We've been to big ride parks that have hotels with large pools. This year my parents wanted to do something different. They wanted to take us all to Elk River Castle. After lots of planning we hit the road for our trip. My Brother Kelsey and I enjoyed the long car ride there. Once we arrive, the castle looked much bigger than we had imagined. There was so much to see and so much to do. There was a swimming pool, movie theater and an elevator to take us from floor to floor. What a magical place! I was so excited because we had the whole place to our family! We spent our vacation playing around the huge castle and finding small mysterious places. There was even a tiny room in the back of one of the closets. My brother, Kelsey, and I played hide and go seek for hours, watched movies and swam until the sun went down. It was sad when our vacation finally came to an end but we made some amazing memories. We'll never forget our trip to Elk River Castle!\",\n",
        " 'Once upon a time there a little girl named Ana. Ana was a smart girl. Everyone in Ana\\'s school knew and liked her very much. She had a big dream of becoming spelling bee winner. Ana studied very hard to be the best she could be at spelling. Ana\\'s best friend would help her study every day after school. By the time the spelling bee arrived Ana and her best friend were sure she would win. There were ten students in the spelling bee. This made Ana very nervous, but when she looked out and saw her dad cheering her on she knew she could do it. The spelling bee had five rounds and Ana made it through them all. She was now in the finals. During the final round James, the boy she was in the finals with, was given a really hard word and he spelled it wrong. All Ana had to do was spell this last word and she would be the winner. Ana stepped to the microphone, thought really hard and spelled the word. She waited and finally her teacher said \"That is correct\". Ana had won the spelling bee. Ana was so happy. She won a trophy. Ana also won a big yellow ribbon. The whole school was also happy, and everyone clapped for her. The whole school went outside. They had a picnic to celebrate Ana winning.',\n",
        " \"Roger was a grasshopper. He loved to hop. He hopped everywhere by himself. One day when he was hopping around he bumped into a frog sitting on a log. The frog told him his name was Gilbert. Gilbert told Roger that it had been a long time since he bumped into anybody. Roger told him that since both grasshoppers and frogs like to jump they would make great friends. The next day they were hopping through a field and they saw something very strange. In a pond they saw a spider floating on a lily pad. The spider was very sad because he did not have any friends. Roger and Gilbert asked him why he didn't have any friends. The spider told them that everybody would scream and run away when they saw him. Roger and Gilbert told him that he didn't look scary to them and that he could come along with them if he wanted. So Sam the spider said yes, and the three of them began a life time friendship full of adventures.\",\n",
        " 'The cute red ball rolled over to the blue ball and said hello. The blue ball was scared and went to cry to the green ball. The green ball laughed at the blue ball. Then the green ball told the orange ball that blue ball was stupid. Most felt this was not good to do and so they punished the green ball by taking away all his air. From that day on everyone saw the air-less green ball and knew that they could not do or say any bad things. This is how the trouble started. The purple ball used the fear of everyone to become the leader that they all feared. The purple ball was mean to everyone. Until one day the red ball spoke up and got all the other colored balls together and they took the air from the purple ball and put it in the green ball. Sadly, the green ball had been without air for too long and was dead.',\n",
        " \"Sara wanted to play on a baseball team. She had never tried to swing a bat and hit a baseball before. Her Dad gave her a bat and together they went to the park to practice. Sara wondered if she could hit a ball. She wasn't sure if she would be any good. She really wanted to play on a team and wear a real uniform. She couldn't wait to get to the park and test out her bat. When Sara and her Dad reached the park, Sara grabbed the bat and stood a few steps away from her Dad. Sara waited as her Dad pitched the ball to her. Her heart was beating fast. She missed the first few pitches. She felt like quitting but kept trying. Soon she was hitting the ball very far. She was very happy and she couldn't wait to sign up for a real team. Her Dad was very proud of her for not giving up.\",\n",
        " 'Peter was a very sad puppy. He had been inside of the pet store for a very long time. In fact, he had been there for three months! Peter had seen many other puppies find a person; he began to wonder why he could not get one. He thought that maybe his fur was not pretty enough or maybe his bark was not loud enough. He tried and tried to please every person who came to the store, but they all picked smaller puppies. However, one day all of this changed. Sammie came into the store looking for a golden puppy. She wanted a puppy she could snuggle with. It so happened that Peter was very sad and tired that day. Sammie came to hold him. Peter wanted to show off his bark, but he was too tired. He fell right to sleep. Sammie loved him at once and loved holding him in her arms. Sammie took Peter home that day, and they made lots of fun memories.',\n",
        " 'Luna the hawk wanted some socks. It was the middle of winter and sitting on tree branches made her feet very cold. Luna hoped that her friends could help her find some socks. She flew to the old maple tree where Olive the owl lived. \"Olive, may I please borrow a pair of your socks?\" she asked. Olive the owl looked surprised. \"Luna, I have no use for socks because my legs and toes have thick feathers. Go visit one of the animals that walk on four legs. They might have extra socks you could borrow.\" Luna flew across the field and landed next to the icy creek. Rose the raccoon was teaching her six babies how to wash their paws. The water was very cold, but the babies were having fun. \"Rose, my bare legs and bare toes are so cold, may I please borrow a pair of your socks?\" begged Luna. Rose laughed hard. \"Silly Luna, I do not have socks. Look at my legs and feet. They are covered with thick, warm fur. I\\'m sorry I cannot help you. Go visit the humans. Sometimes I tip over their garbage cans at night when I am looking for food. Once I saw a pair of socks.\" Luna was very afraid of humans. Her grandmother and mother had warned her about them. She was told that some humans are mean and hurt hawks. Her feet were so cold that it was difficult to grip tree branches. She became brave. She flew to the farmhouse on the big hill. When she landed on the roof, she could not believe her eyes. She saw socks! In late autumn, Henrietta the human had put laundry outside to dry and she had forgotten to bring in one tiny pair of socks. The socks were hanging on the clothesline by two wooden pins. Luna used her powerful beak to break the pins. She put on the socks and then flew back to her home in the huge tree. When she landed, her feet were warm and dry. Luna was very happy.',\n",
        " 'Once upon a time a young boy and young girl set out on a trip to the beach. They packed a few towels, an umbrella, a few beach chairs and a lunch cooler. They drove to the crowded beach parking lot and spent almost an hour trying to find a parking spot. Once they found a spot they parked and began walking to the beach area. They found a nice spot with a good view of the water and set up their belongings. Once they sat down they began to enjoy a nice lunch on the beach. They watched the boats go by and people playing in the water. It was a wonderful day and one they would always remember. Once they arrived home they suddenly found out that they both had a pretty good sunburn. They both said that next time they would use sun screen.',\n",
        " 'Three little kids lived in a great big house with a great big cat and many places for a great big cat to hide. Their great big cat was named Cowboy. And Cowboy was not a very nice cat. Cowboy liked to bite and chew and scratch a great many things. When Cowboy was happy, which was not very often, Cowboy liked to bite in to a blanket or soft toy and carry it around in his mouth. When Cowboy was hungry he liked to bite bright red tomatoes and suck out all the juice and seeds. And when Cowboy was feeling mean he liked to hide. Cowboy would hide, curled up tight in a ball under a blanket or behind a corner and wait for one of the little kids to pass by. When they did pass by Cowboy would jump at their feet and try to bite and scratch them. He did not know that what he was doing was not very nice. Cowboy was only a cat. A great big cat that did not know any better.',\n",
        " 'On the first day of school, Mrs. Law asked all the students to write a story telling her what they did over the summer. She told the students that they were going to read them in front of the class. This was going to help everyone get to know more about each other. When all the students were done writing their stories, Anna raised her hand to read hers first. Mrs. Law smiled at Anna\\'s excitement to share her story with the class. She told all the students to sit down and listen to Anna. Anna started reading her story. All the other students quickly paid attention, as her story was telling about her vacation to a park with lots of rides. Anna told them that she rode a huge ride called, \"Superman,\" which was her favorite. After Anna finished reading her story, all the students clapped and said that they wished that they could hear more. Anna told them to tell their mommies and daddies to take them to visit the rides next summer.',\n",
        " 'This is a story about a bear and a wolf. The bear met the wolf one day in the woods. The bear said to the wolf, would you like to go to the river with me? The wolf said yes, he would like to go to the river. When the bear and the wolf got to the river they found that a beaver had built a bridge to the other side of the river. The bear and the wolf crossed the bridge that was built by the beaver and found that they were now in a part of the woods they had never seen before. A little worried that they may get lost in this part of the woods they had never seen before the bear and the wolf turned around. They went back over the bridge and were happy to be back in a part of the woods they knew so well. The beaver thanked both the bear and the wolf for trying out his new bridge and then started to build yet another bridge close to the first bridge. He was a very busy beaver.',\n",
        " \"Jenny's family lived in a small apartment in Seattle. One day Jenny came home from school and her mom told her that the family was moving to Utah. Jenny was sad to leave her friends. Jenny was sad to leave her school. Jenny helped her mom pack boxes and clean their apartment to get ready for the move. Soon the day came when Jenny's dad brought a large truck to the parking lot and all of the family's things were put inside. Jenny and her mom rode in their car and her dad drove the truck towards Utah. Jenny loved getting to eat lots of yummy fast food on the way. When the family got to their new home in Utah, Jenny helped her parents to take all of the boxes into the house. She loved her new bedroom! When Jenny was emptying box of her toys, there was a knock at the door. It was a little girl who wanted Jenny to play! Jenny was going to like Utah!\",\n",
        " 'Mike and Jeff are close friends. Their school is having a guessing game to guess how many gumballs are in a box. If they get the right amount they win $100. If they get close they get a $20 gift card. The box looks like it is missing some gumballs. It turns out some people are eating them when they place their guess. 100 people guessed and took a piece of candy. The box is 10\" by 10\" by 10\". Each gumball is 1\" each. Mike guessed 500. Jeff guessed 800. They both said they would split their money they win, if they win.',\n",
        " 'Hannah and her friend Mary were bored. They sat around the house and tried to think about what to do. They petted the cat. They drew pictures in Hannah\\'s notebook. They snuck into Hannah\\'s mother\\'s closet to try on her shoes, but Hannah\\'s mother caught them. She said, \"You girls need something to do. Let\\'s take a walk to the park!\" Hannah and Mary looked at each other, and then jumped up and down happily. \"The park sounds great!\" said Hannah. \"Let\\'s go!\" cried Mary. So Hannah\\'s mother packed up a snack of apples and cookies, and they all set off to walk to the park. They walked down the sidewalk, looking at all the interesting things along the way. Mary spotted a squirrel. Hannah saw a yellow bird. Hannah\\'s mother pointed out the pretty yellow flowers growing in front of Mr. Smith\\'s house. When they got to the park, Hannah\\'s mother spread out a picnic blanket and the snack. Hannah and Mary ran around chasing butterflies for a little time, and then sat down to eat their snacks. When they finished, Hannah\\'s mother put the leftovers in a trash can. As they walked back home, Hannah thought that the boring day had turned out quite well.',\n",
        " \"Douglas loves to play soccer. He plays for the Dolphins. He is very good. He was excited about the big game with the Lions. The night before the game, he went to bed late. He was watching three TV shows that night. First, was Muffins the Cat. The second show was Ernie the Talking Donkey. The third was Laughing with Herman Hamster. His Mom told him to go to bed, but Douglas didn't listen. He fell asleep on the couch. He dreamed all night. First about sheep jumping fences. Second about playing fetch the ball with Ruffles. Third about Ernie the talking Donkey kicking a soccer ball over the moon. Fourth about his favorite soccer player, Pele, head the ball in the goal. Finally, the next morning, Douglas got up late because he was so tired. His Mom called him and the alarm went off, but he did not hear. To get Douglas up, his Mom got Ruffles the dog to lick him in the face. Douglas got up but had to eat breakfast fast. Then he quickly dressed into his uniform. He was yawning. His Mom drove him to the soccer field. The game had started. Douglas had to sit out the first quarter. His team was losing one to nothing when Howard scored for the Lions. Douglas started the second quarter. He was tired and could not keep up with the rest of his team. The coach was surprised that Douglas was so slow. Usually he was fast. After the second quarter, the Dolphins were losing two to one after Howard scored again for the Lions and Toby scored a goal for the Dolphins. While the coach gave energy drinks to the team, Douglas fell asleep. The third quarter started. Douglas was snoring when the coach told him to go in. When he saw Douglas was sleeping, he sent Billy into the game. Billy scored one goal and the Dolphins had tied the game two to two. Ruffles the dog started barking and then licking Douglas in the face. Douglas got up and stretched. He was finally well rested. The coach saw Douglas and sent him into the game. Douglas remembered his dream. In the last second, he headed the ball in the goal like Pele. He won the game. The team cheered. Since that time, Douglas goes to bed on time. He always wants to be well rested. His Mom was right. He gave her a hug.\",\n",
        " \"I'm here to tell you the story of a robot named Carl. He came from a far away land known as Factory. Carl was sad because he was missing a part called a tire. He also needed a sun gatherer. But, the tire was more important. Once Carl got all these parts he could travel to his new home in the nation of Lab and the city of Office. It was a tricky thing to get there with missing parts. Just as he had given up hope Carl got a message from Mr. X saying the new parts were ready to be delivered. This made the robot very happy. The parts arrived a few days later and Carl put them in with 2 days of work. After this Carl began to travel the last bit of his goal to get to his new job. After this Carl took 10 days to get to Lab.\",\n",
        " \"On a hot summer day, Brian was walking home from the park. While walking, Brian passed his favorite toy store, and saw that they had a new baseball glove in the window. Brian's baseball glove was very old and was ripped in a few places. Brian really wanted the new glove because he wanted to show off his glove to his friends tomorrow. The cost of the new glove was fifteen dollars, but when Brian checked his pockets for money, he only had six dollars and fifty cents. Brian ran home and went to look around his house for money. He checked under his bed and found fifty cents under some toys. He then checked all of his pockets of his pants and shorts, and found another two dollars. Brian then went to look between the cushions on all of the couches in his house, and he found another three dollars. After finally looking around his whole house, Brian knew that he still did not have enough money to buy the new glove. Brian went outside and saw his dad doing yard work. He told his dad that he would finish all the yard work for him, if he could have the money he needed for the new glove. His dad said yes, so Brian spent the rest of the afternoon raking the yard, and bagging leaves. Brian's dad was very proud that his son was working hard for money. When Brian was finally done, Brian knew that he was too late, and the toy store was closed. Just as Brian was walking inside, he saw his dad walk up to home holding the new glove that he wanted. Brian was so happy, and he and his dad spent the rest of the afternoon having a catch.\",\n",
        " \"On a nice and sunny day, Bob and Sally walked to the beach. When they got there, the first thing they wanted to do was to look for buried treasure. To find the treasure they had brought two shovels and two buckets. They both started digging holes in the sand with their shovels. After looking very hard for treasure for an hour, they didn't find anything. This made Bob and Sally very sad. They gave up and went to play in the water. While they were playing in the water, Sally found a bottle with a little paper inside. Sally opened the bottle and found a treasure map. Sally showed the map to Bob and they started to look for the treasure. After walking every step that the map said, they started digging with their shovels. After digging a really a big hole, they found a box. They were very happy that they found it and wanted to see what was inside. Bob slowly opened the box and there was a very big pearl. Next, they ran to a special store to ask about the pearl. The worker in the store told Bob and Sally that the pearl could make them rich. Bob and Sally looked at each other and decided not to sell it. They took the pearl home and saved it in a special box, so they could remember their day at the beach.\",\n",
        " 'It was a beautiful sunny and warm day. I was working outside in my garden. I was pulling weeds which is not my favorite job, but I was enjoying the day. I live by a lake so sometimes I take a break from my chores and look at the lake. It is so beautiful and it makes me happy to look at the beautiful lake and see what animals I can find swimming in or near the lake. On this day, I kept hearing a low soft sound coming from the lake. I got up from my garden and walked to the lake. I kept hearing this strange sound. It sounded like someone talking in a very low voice. I thought it might be a lake bird because we see and hear them all of the time. The lake birds have several different calls that tell what they want to \"say\" to other lake birds. There is the call when they are flying which is very hurried and short. Then there is the \"where are you\" call which is long, slow and loud. But this sound was not like any I had ever heard. I went to get the binoculars to see if I could spot anything. But, no luck. I still kept hearing this low talking sound. I had now totally given up weeding. Finding this strange sound was going to be more fun. But where was it coming from? I looked again up and down the lake and saw nothing. Finally I went around to the other side of the place where we keep our boats. There is an area there where it is not a very deep part of the water. I spotted them! It was a mother lake bird and a father lake bird with a baby in between them. They were teaching the baby how to swim and eat fish. The low talking sound that I heard must have been them trying to teach the baby to swim and eat the fish. I sat there on the bank and watched for a half an hour. I felt very special that I got to see this. It was such a fun thing to see and way more fun than gardening.',\n",
        " \"One day Magneson took a walk in the park. He passed some trees and a pond. In the pond was a duck named George. George's wife was also in the pond. Her name was Nancy. Magneson walked over to the tree. Nancy flew up into the tree. She wanted to warn Magneson about the killer squirrel who lived inside of the tree. A few years before, the squirrel had thrown a chestnut at George and Nancy's son. He was knocked out, and the squirrel took him away. He was never seen again. Magneson asked what their son's name was. They said it was Leonard. But Magneson was only making small talk. He didn't believe the story about the killer squirrel. Even if there was one, there were many rocks by the pond that he could throw at the squirrel. He could also hide in the tall grass. George and Nancy were sorry to see that Magneson wouldn't listen. They flew away, singing a sad song. A short time later, the squirrel came out of the tree and threw a giant walnut at Magneson. No one ever saw Magneson again.\",\n",
        " \"Every Monday morning, the little bad boy named Josh goes to school. Suddenly, little Josh slips on a banana skin ... - Ouch, says Josh, I fell on this and in addition I got a bump on the forehead! - Wonderful! said the banana peel. I am Mary. I turned into banana skin after throwing trash on the school yard. You have saved me and now I'm back to good old Mary. What's your name? - Mine is Josh... I'm a late to class ... are you serious, where is the banana peel anyways? - The Banana, my dear Josh, was eaten by me, I threw the banana peel and turned into one ... now you saved me, can you see the banana peel you slipped on around here? - No, you are right. - Mary said: Josh, Thank you - Excuse me, Mary ... I have to go ... Otherwise I'll be late for school ... And I would not want to upset the teacher.\",\n",
        " 'Once there was a young boy named Bret who had a cat named Wolfgang. The boy had really wanted a wolf for a pet, but his mother said wolves liked to hog the bathroom and liked to blow things down and they snored. So the boy had to call his cat Wolfie. He had also thought about naming his cat Sir Purrsalot. Bret himself planned to become a knight when he grew up (or maybe a cowboy) and thought Sir Purrsalot sounded like a good name for his brother knight. The difficulty there was that Wolfie didn\\'t purr a lot. He purred when he was being fed or petted, but no one could say he purred a lot. Plus Bret\\'s mother said knights liked to poke things with their swords and they also liked to hog the bathroom and they clanked. So Bret was left with a cat named Wolfgang. The neighbors gave him strange looks when he stood in the front yard in the evening and yelled \"Wolfie! Here Wolfie!!!\", to get Wolfgang to come in for the night. But Bret didn\\'t care what anyone else thought. He had a Wolfie and maybe he\\'d end up becoming a pet doctor when he grew up instead.',\n",
        " \"Sally liked going outside. She put on her shoes. She went outside to walk. She walked on the green grass. The sun was warm. The trees were tall. The birds sang in the trees. Sally liked how the birds can sing. Sally likes to sing with the birds, outside. Ring, ring, is how the birds sang. Sally sang ring, ring, with the birds in the trees. Sally took off her shoes. Sally liked how the green grass was on her toes. Sally's toes liked the green grass. Sally walked on the green grass some more. She saw Missy the cat. Missy the cat meowed to Sally. Sally waved to Missy the cat. Sally likes Missy the cat. Sally likes to meow to Missy the cat. Meow, meow, Sally says to Missy the cat. Missy the cat walks away from Sally. Sally hears her name. Sally, Sally, come home, Sally's Mom calls out. Sally runs home to her Mom. Sally liked going outside.\",\n",
        " 'Tammy likes the park. There are swings at the park. There is a slide at the park. Mary goes to the park with Tammy. They jump rope. They play tag. They like the park. Tammy and Mary have fun at the park. Tammy has a dog named Max. Tammy and Mary take Max to the park. Max likes the park. He chases rabbits. He chases a ball. Tammy throws the ball to Max. Mary throws the ball to Max. The park is no fun in the rain. Tammy and Mary cannot go to the park when it rains. Mother says no. They are sad when they cannot go to the park. Tammy and Mary play in the house when it rains. They play with dolls. They dress up and have a tea party. Today is sunny. Tammy and Mary can go to the park. Mother says yes. They can take Max to the park. They are happy when it is sunny.',\n",
        " 'Once upon a time, there was a dog named Puddles. Puddles was lonely because he lived in an area where there were no other dogs, but only cats. Day after day, Puddles would have to eat cat food and do cat things in order to fit in with the rest of his group. He found it very boring and Puddles was sad. Puddles didn\\'t even look like a cat! All of the other cats teased Puddles. \"You\\'re too big,\" they said. \"You\\'ve got too long of a nose!\" \"Why are you panting like that?\" Puddles knew that he was different. One day, Puddles chose to run away from all of the cats. The cats laughed at him. What a stupid dog! Didn\\'t he know that there were monsters in the woods that could eat him? Puddles didn\\'t care, because Puddles was sad enough to try. So Puddles packed up his things - his squeaky ball, his water dish, and his bone - and headed off into the woods. He was finally happy! All of a sudden, Puddles turned. He smelled a funny smell. It smelled like something he had never smelled before. He turned around, and what did he see but another dog! Puddles was so happy, he barked with joy. He went home with the other dog, who was named Mittens, and to his family. Puddles was never lonely again.',\n",
        " 'Once upon a time there was a princess who lived in a high tower and she was not allowed to leave because of her mean mother. One day she chose to leave but her mother would not let her. The princess climbed out the window of the high tower and climbed down the south wall when her mother was sleeping. She wandered out a good ways. Finally she went into the forest where there are no electric poles but where there are some caves. There she met a young man who was running. His name was John. John asked the princess why such a beautiful woman like her was out in the middle of a forest. She said that she had been trapped for her whole life by an evil woman who said she was her mother. The man said that he would take the princess to a castle that was near. He also said that he thought that she may be the missing princess. As they go through the forest they run into many problems. They see that they are lost and have no way of finding where to go. After several days pass, the princess climbs up to the top of a tree in order to find out where they are. She sees that the castle where they want to go is not that far away and near a mountain. After thinking of the best way to get there, John and the princess go to the castle where they live for the rest of their lives.']"
       ]
      }
     ],
     "prompt_number": 331
    },
    {
     "cell_type": "code",
     "collapsed": false,
     "input": [
      "mcdev = ' '.join(p.story for p in dev_data_2)"
     ],
     "language": "python",
     "metadata": {},
     "outputs": [],
     "prompt_number": 335
    },
    {
     "cell_type": "code",
     "collapsed": false,
     "input": [
      "len(set(nltk.word_tokenize(mcdev)))"
     ],
     "language": "python",
     "metadata": {},
     "outputs": [
      {
       "metadata": {},
       "output_type": "pyout",
       "prompt_number": 341,
       "text": [
        "1464"
       ]
      }
     ],
     "prompt_number": 341
    },
    {
     "cell_type": "code",
     "collapsed": false,
     "input": [],
     "language": "python",
     "metadata": {},
     "outputs": []
    }
   ],
   "metadata": {}
  }
 ]
}